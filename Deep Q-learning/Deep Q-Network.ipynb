{
  "cells": [
    {
      "cell_type": "markdown",
      "metadata": {
        "id": "Mv7yTQmRlzJ7"
      },
      "source": [
        "# Deep Q-Network CNN implementation \n",
        "\n",
        "Original paper:\n",
        "https://arxiv.org/pdf/1312.5602.pdf"
      ]
    },
    {
      "cell_type": "markdown",
      "metadata": {
        "id": "KPRn4OF3lzJ9"
      },
      "source": [
        "**This notebook is the main notebook.** In main notebook it can take some 2 hours for the agent to start improving so it seems reasonable to launch the algorithm on a simpler env first. Here it is CartPole and it will train in several minutes."
      ]
    },
    {
      "cell_type": "code",
      "execution_count": 1,
      "metadata": {
        "colab": {
          "base_uri": "https://localhost:8080/"
        },
        "id": "WKTjn3c2EW8g",
        "outputId": "0d391a8e-6a55-484c-ad93-83e3929fffc4"
      },
      "outputs": [
        {
          "name": "stdout",
          "output_type": "stream",
          "text": [
            "Selecting previously unselected package libfontenc1:amd64.\n",
            "(Reading database ... 121749 files and directories currently installed.)\n",
            "Preparing to unpack .../0-libfontenc1_1%3a1.1.4-1build3_amd64.deb ...\n",
            "Unpacking libfontenc1:amd64 (1:1.1.4-1build3) ...\n",
            "Selecting previously unselected package libxfont2:amd64.\n",
            "Preparing to unpack .../1-libxfont2_1%3a2.0.5-1build1_amd64.deb ...\n",
            "Unpacking libxfont2:amd64 (1:2.0.5-1build1) ...\n",
            "Selecting previously unselected package libxkbfile1:amd64.\n",
            "Preparing to unpack .../2-libxkbfile1_1%3a1.1.0-1build3_amd64.deb ...\n",
            "Unpacking libxkbfile1:amd64 (1:1.1.0-1build3) ...\n",
            "Selecting previously unselected package x11-xkb-utils.\n",
            "Preparing to unpack .../3-x11-xkb-utils_7.7+5build4_amd64.deb ...\n",
            "Unpacking x11-xkb-utils (7.7+5build4) ...\n",
            "Selecting previously unselected package xfonts-encodings.\n",
            "Preparing to unpack .../4-xfonts-encodings_1%3a1.0.5-0ubuntu2_all.deb ...\n",
            "Unpacking xfonts-encodings (1:1.0.5-0ubuntu2) ...\n",
            "Selecting previously unselected package xfonts-utils.\n",
            "Preparing to unpack .../5-xfonts-utils_1%3a7.7+6build2_amd64.deb ...\n",
            "Unpacking xfonts-utils (1:7.7+6build2) ...\n",
            "Selecting previously unselected package xfonts-base.\n",
            "Preparing to unpack .../6-xfonts-base_1%3a1.0.5_all.deb ...\n",
            "Unpacking xfonts-base (1:1.0.5) ...\n",
            "Selecting previously unselected package xserver-common.\n",
            "Preparing to unpack .../7-xserver-common_2%3a21.1.4-2ubuntu1.7~22.04.8_all.deb ...\n",
            "Unpacking xserver-common (2:21.1.4-2ubuntu1.7~22.04.8) ...\n",
            "Selecting previously unselected package xvfb.\n",
            "Preparing to unpack .../8-xvfb_2%3a21.1.4-2ubuntu1.7~22.04.8_amd64.deb ...\n",
            "Unpacking xvfb (2:21.1.4-2ubuntu1.7~22.04.8) ...\n",
            "Setting up libfontenc1:amd64 (1:1.1.4-1build3) ...\n",
            "Setting up xfonts-encodings (1:1.0.5-0ubuntu2) ...\n",
            "Setting up libxkbfile1:amd64 (1:1.1.0-1build3) ...\n",
            "Setting up libxfont2:amd64 (1:2.0.5-1build1) ...\n",
            "Setting up x11-xkb-utils (7.7+5build4) ...\n",
            "Setting up xfonts-utils (1:7.7+6build2) ...\n",
            "Setting up xfonts-base (1:1.0.5) ...\n",
            "Setting up xserver-common (2:21.1.4-2ubuntu1.7~22.04.8) ...\n",
            "Setting up xvfb (2:21.1.4-2ubuntu1.7~22.04.8) ...\n",
            "Processing triggers for man-db (2.10.2-1) ...\n",
            "Processing triggers for fontconfig (2.13.1-4.2ubuntu5) ...\n",
            "Processing triggers for libc-bin (2.35-0ubuntu3.4) ...\n",
            "/sbin/ldconfig.real: /usr/local/lib/libtbbmalloc.so.2 is not a symbolic link\n",
            "\n",
            "/sbin/ldconfig.real: /usr/local/lib/libtbbmalloc_proxy.so.2 is not a symbolic link\n",
            "\n",
            "/sbin/ldconfig.real: /usr/local/lib/libtbb.so.12 is not a symbolic link\n",
            "\n",
            "/sbin/ldconfig.real: /usr/local/lib/libtbbbind.so.3 is not a symbolic link\n",
            "\n",
            "/sbin/ldconfig.real: /usr/local/lib/libtbbbind_2_0.so.3 is not a symbolic link\n",
            "\n",
            "/sbin/ldconfig.real: /usr/local/lib/libtbbbind_2_5.so.3 is not a symbolic link\n",
            "\n",
            "\u001b[2K     \u001b[90m━━━━━━━━━━━━━━━━━━━━━━━━━━━━━━━━━━━━━━━━\u001b[0m \u001b[32m953.9/953.9 kB\u001b[0m \u001b[31m5.5 MB/s\u001b[0m eta \u001b[36m0:00:00\u001b[0m\n",
            "\u001b[2K     \u001b[90m━━━━━━━━━━━━━━━━━━━━━━━━━━━━━━━━━━━━━━━━\u001b[0m \u001b[32m434.7/434.7 kB\u001b[0m \u001b[31m34.9 MB/s\u001b[0m eta \u001b[36m0:00:00\u001b[0m\n",
            "\u001b[?25h  Installing build dependencies ... \u001b[?25l\u001b[?25hdone\n",
            "  Getting requirements to build wheel ... \u001b[?25l\u001b[?25hdone\n",
            "  Preparing metadata (pyproject.toml) ... \u001b[?25l\u001b[?25hdone\n",
            "\u001b[2K     \u001b[90m━━━━━━━━━━━━━━━━━━━━━━━━━━━━━━━━━━━━━━━━\u001b[0m \u001b[32m1.7/1.7 MB\u001b[0m \u001b[31m29.0 MB/s\u001b[0m eta \u001b[36m0:00:00\u001b[0m\n",
            "\u001b[?25h  Building wheel for AutoROM.accept-rom-license (pyproject.toml) ... \u001b[?25l\u001b[?25hdone\n",
            "Starting virtual X frame buffer: Xvfb.\n"
          ]
        }
      ],
      "source": [
        "import sys, os\n",
        "if 'google.colab' in sys.modules and not os.path.exists('.setup_complete'):\n",
        "    !wget -q https://raw.githubusercontent.com/yandexdataschool/Practical_RL/master/setup_colab.sh -O- | bash\n",
        "    !wget -q https://raw.githubusercontent.com/laktionov/RL-course/pmi_movs_2024/hw2/atari_wrappers.py\n",
        "    !wget -q https://raw.githubusercontent.com/laktionov/RL-course/pmi_movs_2024/hw2/utils.py\n",
        "    !wget -q https://raw.githubusercontent.com/laktionov/RL-course/pmi_movs_2024/hw2/framebuffer.py\n",
        "    !wget -q https://raw.githubusercontent.com/laktionov/RL-course/pmi_movs_2024/hw2/prioritized_sampler.py\n",
        "\n",
        "    !pip -q install gymnasium[atari,accept-rom-license]\n",
        "\n",
        "    !touch .setup_complete\n",
        "\n",
        "# This code creates a virtual display to draw game images on.\n",
        "# It will have no effect if your machine has a monitor.\n",
        "if type(os.environ.get(\"DISPLAY\")) is not str or len(os.environ.get(\"DISPLAY\")) == 0:\n",
        "    !bash ../xvfb start\n",
        "    os.environ['DISPLAY'] = ':1'"
      ]
    },
    {
      "cell_type": "code",
      "execution_count": 2,
      "metadata": {
        "id": "ZAj6hgjh3RXn"
      },
      "outputs": [],
      "source": [
        "%load_ext autoreload\n",
        "%autoreload 2"
      ]
    },
    {
      "cell_type": "markdown",
      "metadata": {
        "id": "ox9U4XWulzJ9"
      },
      "source": [
        "We are using the latest version of Gymnasium"
      ]
    },
    {
      "cell_type": "code",
      "execution_count": 3,
      "metadata": {
        "ExecuteTime": {
          "end_time": "2020-08-28T07:23:08.522333Z",
          "start_time": "2020-08-28T07:23:07.301031Z"
        },
        "id": "MLHBfLAjlzJ9"
      },
      "outputs": [],
      "source": [
        "import gymnasium as gym\n",
        "import random\n",
        "import numpy as np\n",
        "import utils\n",
        "import matplotlib.pyplot as plt\n",
        "%matplotlib inline\n",
        "\n",
        "import torch\n",
        "import torch.nn as nn\n",
        "import torchvision.transforms as transforms\n",
        "from PIL import Image\n"
      ]
    },
    {
      "cell_type": "code",
      "execution_count": 4,
      "metadata": {
        "colab": {
          "base_uri": "https://localhost:8080/"
        },
        "id": "W_DIpc-1lzJ-",
        "outputId": "17ea8964-4594-4d3a-cb98-b1b07d5e345c"
      },
      "outputs": [
        {
          "name": "stderr",
          "output_type": "stream",
          "text": [
            "/usr/local/lib/python3.10/dist-packages/ipykernel/ipkernel.py:283: DeprecationWarning: `should_run_async` will not call `transform_cell` automatically in the future. Please pass the result to `transformed_cell` argument and any exception that happen during thetransform in `preprocessing_exc_tuple` in IPython 7.17 and above.\n",
            "  and should_run_async(code)\n"
          ]
        }
      ],
      "source": [
        "ENV_NAME = \"BreakoutNoFrameskip-v4\""
      ]
    },
    {
      "cell_type": "markdown",
      "metadata": {
        "id": "4ygLVaOflzJ-"
      },
      "source": [
        "# Preprocessing"
      ]
    },
    {
      "cell_type": "code",
      "execution_count": 5,
      "metadata": {
        "colab": {
          "base_uri": "https://localhost:8080/",
          "height": 780
        },
        "id": "okkGU5tzlzJ-",
        "outputId": "d9647761-466f-4b8a-a75a-7e639f50cc75"
      },
      "outputs": [
        {
          "name": "stderr",
          "output_type": "stream",
          "text": [
            "/usr/local/lib/python3.10/dist-packages/gymnasium/utils/passive_env_checker.py:335: UserWarning: \u001b[33mWARN: No render fps was declared in the environment (env.metadata['render_fps'] is None or not defined), rendering may occur at inconsistent fps.\u001b[0m\n",
            "  logger.warn(\n"
          ]
        },
        {
          "data": {
            "image/png": "[encoded data removed]",
            "text/plain": [
              "<Figure size 1600x900 with 10 Axes>"
            ]
          },
          "metadata": {},
          "output_type": "display_data"
        }
      ],
      "source": [
        "env = gym.make(ENV_NAME, render_mode=\"rgb_array\")\n",
        "env.reset()\n",
        "\n",
        "n_cols = 5\n",
        "n_rows = 2\n",
        "fig = plt.figure(figsize=(16, 9))\n",
        "\n",
        "for row in range(n_rows):\n",
        "    for col in range(n_cols):\n",
        "        ax = fig.add_subplot(n_rows, n_cols, row * n_cols + col + 1)\n",
        "        ax.imshow(env.render())\n",
        "        obs, _, _, _, _ = env.step(env.action_space.sample())\n",
        "plt.show()"
      ]
    },
    {
      "cell_type": "markdown",
      "metadata": {
        "id": "xwky3QUKlzJ_"
      },
      "source": [
        "### Processing game image\n",
        "\n",
        "Raw atari images are large, 210x160x3 by default. However, we don't need that level of detail in order to learn them.\n",
        "\n",
        "We can thus save a lot of time by preprocessing game image, including\n",
        "* Resizing to a smaller shape, 64 x 64\n",
        "* Converting to grayscale\n",
        "* Cropping irrelevant image parts (top, bottom and edges)\n",
        "\n",
        "Also please keep one dimension for channel so that final shape would be 1 x 64 x 64.\n",
        "\n",
        "Tip: You can implement your own grayscale converter and assign a huge weight to the red channel. This trick is not necessary but it will speed up learning."
      ]
    },
    {
      "cell_type": "code",
      "execution_count": 9,
      "metadata": {
        "id": "Zv71ri3glzJ_"
      },
      "outputs": [],
      "source": [
        "from gymnasium import ObservationWrapper\n",
        "from gymnasium.spaces import Box\n",
        "\n",
        "\n",
        "class PreprocessAtariObs(ObservationWrapper):\n",
        "    def __init__(self, env):\n",
        "        \"\"\"A gym wrapper that crops, scales image into the desired shapes and grayscales it.\"\"\"\n",
        "        ObservationWrapper.__init__(self, env)\n",
        "\n",
        "        self.img_size = (1, 64, 64)\n",
        "        self.observation_space = Box(0.0, 1.0, self.img_size)\n",
        "\n",
        "\n",
        "    def _to_gray_scale(self, img, channel_weights=[0.8, 0.1, 0.1]):\n",
        "      red, green, blue = img[:,:,0], img[:,:,1], img[:,:,2]\n",
        "      obs = channel_weights[0] * red + channel_weights[1] * green + channel_weights[2] * blue\n",
        "      return obs\n",
        "\n",
        "    def observation(self, img):\n",
        "        \"\"\"what happens to each observation\"\"\"\n",
        "        # Here's what you need to do:\n",
        "        #  * crop image, remove irrelevant parts\n",
        "        #  * resize image to self.img_size\n",
        "        #     (use imresize from any library you want,\n",
        "        #      e.g. opencv, skimage, PIL, keras)\n",
        "        #  * cast image to grayscale\n",
        "        #  * convert image pixels to (0,1) range, float32 type\n",
        "\n",
        "\n",
        "        PIL_img = Image.fromarray(img.astype('uint8'), 'RGB')\n",
        "        #  * crop image, remove irrelevant parts\n",
        "        area = (8, 32, 152, 200)\n",
        "        cropped_img = PIL_img.crop(area)\n",
        "\n",
        "        #  * resize image to self.img_size\n",
        "        res_img = cropped_img.resize((64, 64))\n",
        "\n",
        "        #  * cast image to grayscale\n",
        "        gray_image = self._to_gray_scale(np.array(res_img))\n",
        "\n",
        "        #  * convert image pixels to (0,1) range, float32 type\n",
        "        gray_image = gray_image/255\n",
        "\n",
        "        image = gray_image.astype(np.float32)\n",
        "        image = np.expand_dims(image, axis=0)\n",
        "\n",
        "        return image"
      ]
    },
    {
      "cell_type": "markdown",
      "metadata": {
        "id": "hw3yOYz1lzJ_"
      },
      "source": [
        "# Wrapping"
      ]
    },
    {
      "cell_type": "code",
      "execution_count": 11,
      "metadata": {
        "id": "CxDsj96ElzJ_"
      },
      "outputs": [],
      "source": [
        "import atari_wrappers\n",
        "\n",
        "def PrimaryAtariWrap(env, clip_rewards=True):\n",
        "    assert 'NoFrameskip' in env.spec.id\n",
        "\n",
        "    # This wrapper holds the same action for <skip> frames and outputs\n",
        "    # the maximal pixel value of 2 last frames (to handle blinking\n",
        "    # in some envs)\n",
        "    env = atari_wrappers.MaxAndSkipEnv(env, skip=4)\n",
        "\n",
        "    # This wrapper sends done=True when each life is lost\n",
        "    # (not all the 5 lives that are givern by the game rules).\n",
        "    # It should make easier for the agent to understand that losing is bad.\n",
        "    env = atari_wrappers.EpisodicLifeEnv(env)\n",
        "\n",
        "    # This wrapper laucnhes the ball when an episode starts.\n",
        "    # Without it the agent has to learn this action, too.\n",
        "    # Actually it can but learning would take longer.\n",
        "    env = atari_wrappers.FireResetEnv(env)\n",
        "\n",
        "    # This wrapper transforms rewards to {-1, 0, 1} according to their sign\n",
        "    if clip_rewards:\n",
        "        env = atari_wrappers.ClipRewardEnv(env)\n",
        "\n",
        "    # This wrapper is yours :)\n",
        "    env = PreprocessAtariObs(env)\n",
        "    return env"
      ]
    },
    {
      "cell_type": "markdown",
      "metadata": {
        "id": "habwJJ-dlzKA"
      },
      "source": [
        "# Frame Buffer\n"
      ]
    },
    {
      "cell_type": "code",
      "execution_count": 13,
      "metadata": {
        "colab": {
          "base_uri": "https://localhost:8080/"
        },
        "id": "ciU-mYADlzKA",
        "outputId": "4fa8f4d5-7330-46f3-adf2-0cdcc249962d"
      },
      "outputs": [
        {
          "data": {
            "text/plain": [
              "(4, (4, 64, 64))"
            ]
          },
          "execution_count": 13,
          "metadata": {},
          "output_type": "execute_result"
        }
      ],
      "source": [
        "from framebuffer import FrameBuffer\n",
        "\n",
        "def make_env(clip_rewards=True, seed=None):\n",
        "    env = gym.make(ENV_NAME, render_mode=\"rgb_array\")  # create raw env\n",
        "    if seed is not None:\n",
        "        env.seed(seed)\n",
        "    env = PrimaryAtariWrap(env, clip_rewards)\n",
        "    env = FrameBuffer(env, n_frames=4, dim_order='pytorch')\n",
        "    return env\n",
        "\n",
        "env = make_env()\n",
        "env.reset()\n",
        "n_actions = env.action_space.n\n",
        "state_shape = env.observation_space.shape\n",
        "n_actions, state_shape"
      ]
    },
    {
      "cell_type": "code",
      "execution_count": 14,
      "metadata": {
        "colab": {
          "base_uri": "https://localhost:8080/",
          "height": 1000
        },
        "id": "dUm9UYhnlzKA",
        "outputId": "7332ca4f-eb51-4baa-88d9-972acf51ca06"
      },
      "outputs": [
        {
          "data": {
            "image/png": "[encoded data removed]",
            "text/plain": [
              "<Figure size 1200x1000 with 1 Axes>"
            ]
          },
          "metadata": {},
          "output_type": "display_data"
        },
        {
          "data": {
            "image/png": "[encoded data removed]",
            "text/plain": [
              "<Figure size 1500x1500 with 1 Axes>"
            ]
          },
          "metadata": {},
          "output_type": "display_data"
        }
      ],
      "source": [
        "for _ in range(12):\n",
        "    obs, _, _, _, _ = env.step(env.action_space.sample())\n",
        "\n",
        "plt.figure(figsize=[12,10])\n",
        "plt.title(\"Game image\")\n",
        "plt.imshow(env.render())\n",
        "plt.show()\n",
        "\n",
        "plt.figure(figsize=[15,15])\n",
        "plt.title(\"Agent observation (4 frames top to bottom)\")\n",
        "plt.imshow(utils.img_by_obs(obs, state_shape), cmap='gray')\n",
        "plt.show()"
      ]
    },
    {
      "cell_type": "markdown",
      "metadata": {
        "id": "pCVPkTAHlzKA"
      },
      "source": [
        "# DQN as it is"
      ]
    },
    {
      "cell_type": "markdown",
      "metadata": {
        "id": "dZbRMEdJlzKA"
      },
      "source": [
        "### Building a network\n",
        "\n",
        "\n",
        "<img src=https://github.com/yandexdataschool/Practical_RL/raw/master/yet_another_week/_resource/dqn_arch.png width=640>"
      ]
    },
    {
      "cell_type": "code",
      "execution_count": 15,
      "metadata": {
        "colab": {
          "base_uri": "https://localhost:8080/"
        },
        "id": "TnoPrO57lzKA",
        "outputId": "e576227c-081c-49a0-aa7c-4e1e15bcf577"
      },
      "outputs": [
        {
          "data": {
            "text/plain": [
              "device(type='cpu')"
            ]
          },
          "execution_count": 15,
          "metadata": {},
          "output_type": "execute_result"
        }
      ],
      "source": [
        "\n",
        "import torch\n",
        "import torch.nn as nn\n",
        "device = torch.device('cuda' if torch.cuda.is_available() else 'cpu')\n",
        "# those who have a GPU but feel unfair to use it can uncomment:\n",
        "# device = torch.device('cpu')\n",
        "device"
      ]
    },
    {
      "cell_type": "code",
      "execution_count": 48,
      "metadata": {
        "id": "GirUgVaelzKB"
      },
      "outputs": [],
      "source": [
        "class DQNAgent(nn.Module):\n",
        "    def __init__(self, state_shape, n_actions, epsilon=0):\n",
        "\n",
        "        super().__init__()\n",
        "        self.epsilon = epsilon\n",
        "        self.n_actions = n_actions\n",
        "        self.state_shape = state_shape\n",
        "\n",
        "        # Define your network body here. Please make sure agent is fully contained here\n",
        "        self.layer1 = nn.Sequential(nn.Conv2d(4, 16, kernel_size=(3,3), stride=2), nn.ReLU())\n",
        "        self.layer2 = nn.Sequential(nn.Conv2d(16, 32, kernel_size=(3,3), stride=2), nn.ReLU())\n",
        "        self.layer3 = nn.Sequential(nn.Conv2d(32, 64, kernel_size=(3,3), stride=2), nn.ReLU())\n",
        "        self.layer4 = nn.Linear(3136, 256)\n",
        "        self.layer5 = nn.ReLU()\n",
        "        self.layer6 = nn.Linear(256, n_actions)\n",
        "\n",
        "\n",
        "\n",
        "\n",
        "    def forward(self, state_t):\n",
        "        \"\"\"\n",
        "        takes agent's observation (tensor), returns qvalues (tensor)\n",
        "        :param state_t: a batch of 4-frame buffers, shape = [batch_size, 4, h, w]\n",
        "        \"\"\"\n",
        "        # Use your network to compute qvalues for given state\n",
        "        qvalues = self.layer1(state_t)\n",
        "        qvalues = self.layer2(qvalues)\n",
        "        qvalues = self.layer3(qvalues).flatten(start_dim=1)\n",
        "        qvalues = self.layer4(qvalues)\n",
        "        qvalues = self.layer5(qvalues)\n",
        "        qvalues = self.layer6(qvalues)\n",
        "\n",
        "        assert len(\n",
        "            qvalues.shape) == 2 and qvalues.shape[0] == state_t.shape[0] and qvalues.shape[1] == n_actions\n",
        "\n",
        "        return qvalues\n",
        "\n",
        "    def get_qvalues(self, states):\n",
        "        \"\"\"\n",
        "        like forward, but works on numpy arrays, not tensors\n",
        "        \"\"\"\n",
        "        model_device = next(self.parameters()).device\n",
        "        states = torch.tensor(states, device=model_device, dtype=torch.float)\n",
        "        qvalues = self.forward(states.to(device=device))\n",
        "        return qvalues.data.cpu().numpy()\n",
        "\n",
        "    def sample_actions(self, qvalues):\n",
        "        \"\"\"pick actions given qvalues. Uses epsilon-greedy exploration strategy. \"\"\"\n",
        "        epsilon = self.epsilon\n",
        "        batch_size, n_actions = qvalues.shape\n",
        "\n",
        "        random_actions = np.random.choice(n_actions, size=batch_size)\n",
        "        best_actions = qvalues.argmax(axis=-1)\n",
        "\n",
        "        should_explore = np.random.choice(\n",
        "            [0, 1], batch_size, p=[1-epsilon, epsilon])\n",
        "        return np.where(should_explore, random_actions, best_actions)"
      ]
    },
    {
      "cell_type": "code",
      "execution_count": 49,
      "metadata": {
        "id": "849ub9KYlzKB"
      },
      "outputs": [],
      "source": [
        "agent = DQNAgent(state_shape, n_actions, epsilon=0.5).to(device)"
      ]
    },
    {
      "cell_type": "markdown",
      "metadata": {
        "id": "vbu8GqktlzKB"
      },
      "source": [
        "Now let's try out our agent to see if it raises any errors."
      ]
    },
    {
      "cell_type": "code",
      "execution_count": 18,
      "metadata": {
        "id": "S0n5iYYtlzKB"
      },
      "outputs": [],
      "source": [
        "def evaluate(env, agent, n_games=1, greedy=False, t_max=10000):\n",
        "    \"\"\" Plays n_games full games. If greedy, picks actions as argmax(qvalues). Returns mean reward. \"\"\"\n",
        "    rewards = []\n",
        "    for _ in range(n_games):\n",
        "        s, _ = env.reset()\n",
        "        reward = 0\n",
        "        for _ in range(t_max):\n",
        "            qvalues = agent.get_qvalues([s])\n",
        "            action = qvalues.argmax(axis=-1)[0] if greedy else agent.sample_actions(qvalues)[0]\n",
        "            s, r, terminated, truncated, _ = env.step(action)\n",
        "            reward += r\n",
        "            if terminated or truncated:\n",
        "                break\n",
        "\n",
        "        rewards.append(reward)\n",
        "    return np.mean(rewards)"
      ]
    },
    {
      "cell_type": "markdown",
      "metadata": {
        "id": "G0tR2c3zlzKB"
      },
      "source": [
        "# Experience Replay\n",
        "There's a powerful technique that you can use to improve sample efficiency for off-policy algorithms: Experience Replay. The catch is that you can train Q-learning and EV-SARSA on `<s,a,r,s'>` tuples even if they aren't sampled under current agent's policy. So here's what we're gonna do:\n",
        "\n",
        "<img src=https://github.com/yandexdataschool/Practical_RL/raw/master/yet_another_week/_resource/exp_replay.png width=640>\n",
        "\n",
        "#### Training with experience replay\n",
        "1. Play game, sample `<s,a,r,s'>`.\n",
        "2. Update q-values based on `<s,a,r,s'>`.\n",
        "3. Store `<s,a,r,s'>` transition in a buffer.\n",
        " 3. If buffer is full, delete earliest data.\n",
        "4. Sample K such transitions from that buffer and update q-values based on them.\n",
        "\n",
        "#### The interface is fairly simple:\n",
        "* `exp_replay.add(obs, act, rw, next_obs, done)` - saves (s,a,r,s',done) tuple into the buffer\n",
        "* `exp_replay.sample(batch_size)` - returns observations, actions, rewards, next_observations and is_done for `batch_size` random samples.\n",
        "* `len(exp_replay)` - returns number of elements stored in replay buffer.\n",
        "\n",
        "\n",
        "To enable such training, first we must implement a memory structure that would act like such a buffer."
      ]
    },
    {
      "cell_type": "code",
      "execution_count": 19,
      "metadata": {
        "id": "c0TRn-1Ce6BS"
      },
      "outputs": [],
      "source": [
        "import random\n"
      ]
    },
    {
      "cell_type": "code",
      "execution_count": 20,
      "metadata": {
        "id": "aBuMjsjnlzKB"
      },
      "outputs": [],
      "source": [
        "class ReplayBuffer(object):\n",
        "    def __init__(self, size):\n",
        "        \"\"\"\n",
        "        Create Replay buffer.\n",
        "        Parameters\n",
        "        ----------\n",
        "        size: int\n",
        "            Max number of transitions to store in the buffer. When the buffer\n",
        "            overflows the old memories are dropped.\n",
        "\n",
        "        Note: for this assignment you can pick any data structure you want.\n",
        "              If you want to keep it simple, you can store a list of tuples of (s, a, r, s') in self._storage\n",
        "              However you may find out there are faster and/or more memory-efficient ways to do so.\n",
        "        \"\"\"\n",
        "        self._storage = []\n",
        "        self._maxsize = size\n",
        "\n",
        "        # OPTIONAL: YOUR CODE\n",
        "\n",
        "    def __len__(self):\n",
        "        return len(self._storage)\n",
        "\n",
        "    def add(self, obs_t, action, reward, obs_tp1, done):\n",
        "        '''\n",
        "        Make sure, _storage will not exceed _maxsize.\n",
        "        Make sure, FIFO rule is being followed: the oldest examples has to be removed earlier\n",
        "        '''\n",
        "        data = (obs_t, action, reward, obs_tp1, done)\n",
        "        storage = self._storage\n",
        "        maxsize = self._maxsize\n",
        "            # add data to storage\n",
        "        if len(self._storage) < maxsize:\n",
        "          self._storage.append(data)\n",
        "        else:\n",
        "          self._storage.pop(0)\n",
        "          self._storage.append(data)\n",
        "\n",
        "\n",
        "    def sample(self, batch_size):\n",
        "        \"\"\"Sample a batch of experiences.\n",
        "        Parameters\n",
        "        ----------\n",
        "        batch_size: int\n",
        "            How many transitions to sample.\n",
        "        Returns\n",
        "        -------\n",
        "        obs_batch: np.array\n",
        "            batch of observations\n",
        "        act_batch: np.array\n",
        "            batch of actions executed given obs_batch\n",
        "        rew_batch: np.array\n",
        "            rewards received as results of executing act_batch\n",
        "        next_obs_batch: np.array\n",
        "            next set of observations seen after executing act_batch\n",
        "        done_mask: np.array\n",
        "            done_mask[i] = 1 if executing act_batch[i] resulted in\n",
        "            the end of an episode and 0 otherwise.\n",
        "        \"\"\"\n",
        "        storage = self._storage\n",
        "        # <YOUR CODE>\n",
        "            # randomly generate batch_size integers\n",
        "            # to be used as indexes of samples\n",
        "        sample = random.sample(storage, batch_size)\n",
        "        obs_batch = np.zeros((batch_size, np.shape(sample[0][0])[0], np.shape(sample[0][0])[1], np.shape(sample[0][0])[2]))\n",
        "        act_batch = np.zeros(batch_size, dtype = np.int8) # Actions is some kind of int from 0,1,2\n",
        "        rew_batch = np.zeros(batch_size, dtype = np.int32) # Reward is int from atari page\n",
        "        next_obs_batch = np.zeros((batch_size, np.shape(sample[0][0])[0], np.shape(sample[0][0])[1], np.shape(sample[0][0])[2]))\n",
        "        done_mask = np.zeros(batch_size, dtype = np.bool_) #either 0 or 1, so it makes sense to choose bool\n",
        "        # <YOUR CODE>\n",
        "            # collect <s,a,r,s',done> for each index\n",
        "        for i in range(batch_size):\n",
        "\n",
        "          obs_batch[i] = sample[i][0]\n",
        "          act_batch[i] = sample[i][1]\n",
        "          rew_batch[i] = sample[i][2]\n",
        "          next_obs_batch[i] = sample[i][3]\n",
        "          done_mask[i] = sample[i][4]\n",
        "\n",
        "        return obs_batch, act_batch, rew_batch, next_obs_batch, done_mask\n",
        "\n",
        "            # <states>, <actions>, <rewards>, <next_states>, <is_done>"
      ]
    },
    {
      "cell_type": "code",
      "execution_count": 21,
      "metadata": {
        "id": "Rc7uoe97lzKB"
      },
      "outputs": [],
      "source": [
        "exp_replay = ReplayBuffer(10)\n",
        "\n",
        "for _ in range(30):\n",
        "    exp_replay.add(env.reset()[0], env.action_space.sample(),\n",
        "                   1.0, env.reset()[0], done=False)\n",
        "\n",
        "obs_batch, act_batch, reward_batch, next_obs_batch, is_done_batch = exp_replay.sample(\n",
        "    5)\n",
        "\n",
        "assert len(exp_replay) == 10, \"experience replay size should be 10 because that's what maximum capacity is\""
      ]
    },
    {
      "cell_type": "code",
      "execution_count": 22,
      "metadata": {
        "id": "BUfvrZ54lzKB"
      },
      "outputs": [],
      "source": [
        "def play_and_record(initial_state, agent, env, exp_replay, n_steps=1):\n",
        "    \"\"\"\n",
        "    Play the game for exactly n steps, record every (s,a,r,s', done) to replay buffer.\n",
        "    Whenever game ends, add record with done=True and reset the game.\n",
        "    It is guaranteed that env has done=False when passed to this function.\n",
        "\n",
        "    PLEASE DO NOT RESET ENV UNLESS IT IS \"DONE\"\n",
        "\n",
        "    :returns: return sum of rewards over time and the state in which the env stays\n",
        "    \"\"\"\n",
        "    s = initial_state\n",
        "    if len(np.shape(s)) != 4:\n",
        "      s = np.expand_dims(s, axis=0)\n",
        "    sum_rewards = 0\n",
        "\n",
        "\n",
        "    # Play the game for n_steps as per instructions above\n",
        "    for _ in range(n_steps):\n",
        "      q_value = agent.get_qvalues(s)\n",
        "      action = agent.sample_actions(q_value)[0]\n",
        "      obs, rew, done, _, _ = env.step(action)\n",
        "\n",
        "\n",
        "      exp_replay.add(np.squeeze(s, axis=0), action, rew, obs, done)\n",
        "\n",
        "\n",
        "\n",
        "      s = obs\n",
        "      s = np.expand_dims(s, axis=0)\n",
        "      sum_rewards += rew\n",
        "\n",
        "      if done == True:\n",
        "        s, _ = env.reset()\n",
        "        if len(np.shape(s)) != 4:\n",
        "          s = np.expand_dims(s, axis=0)\n",
        "\n",
        "\n",
        "    return sum_rewards, s\n",
        "\n"
      ]
    },
    {
      "cell_type": "code",
      "execution_count": 23,
      "metadata": {
        "colab": {
          "base_uri": "https://localhost:8080/"
        },
        "id": "klS3iIi2lzKC",
        "outputId": "88f87e7b-5f3d-4ceb-9a78-c7b4bda9b2b7"
      },
      "outputs": [
        {
          "name": "stdout",
          "output_type": "stream",
          "text": [
            "Well done!\n"
          ]
        }
      ],
      "source": [
        "# testing your code.\n",
        "exp_replay = ReplayBuffer(2000)\n",
        "\n",
        "state, _ = env.reset()\n",
        "play_and_record(state, agent, env, exp_replay, n_steps=1000)\n",
        "\n",
        "# if you're using your own experience replay buffer, some of those tests may need correction.\n",
        "# just make sure you know what your code does\n",
        "assert len(exp_replay) == 1000, \"play_and_record should have added exactly 1000 steps, \"\\\n",
        "                                 \"but instead added %i\" % len(exp_replay)\n",
        "is_dones = list(zip(*exp_replay._storage))[-1]\n",
        "\n",
        "assert 0 < np.mean(is_dones) < 0.1, \"Please make sure you restart the game whenever it is 'done' and record the is_done correctly into the buffer.\"\\\n",
        "                                    \"Got %f is_done rate over %i steps. [If you think it's your tough luck, just re-run the test]\" % (\n",
        "                                        np.mean(is_dones), len(exp_replay))\n",
        "\n",
        "for _ in range(100):\n",
        "    obs_batch, act_batch, reward_batch, next_obs_batch, is_done_batch = exp_replay.sample(10)\n",
        "    assert obs_batch.shape == next_obs_batch.shape == (10,) + state_shape\n",
        "    assert act_batch.shape == (10,), \"actions batch should have shape (10,) but is instead %s\" % str(act_batch.shape)\n",
        "    assert reward_batch.shape == (10,), \"rewards batch should have shape (10,) but is instead %s\" % str(reward_batch.shape)\n",
        "    assert is_done_batch.shape == (10,), \"is_done batch should have shape (10,) but is instead %s\" % str(is_done_batch.shape)\n",
        "    assert [int(i) in (0, 1)\n",
        "            for i in is_dones], \"is_done should be strictly True or False\"\n",
        "    assert [0 <= a < n_actions for a in act_batch], \"actions should be within [0, n_actions)\"\n",
        "\n",
        "print(\"Well done!\")"
      ]
    },
    {
      "cell_type": "markdown",
      "metadata": {
        "id": "vRwDtrg2lzKC"
      },
      "source": [
        "# Target networks\n",
        "\n",
        "\n",
        "$$ Q_{reference}(s,a) = r + \\gamma \\cdot \\max _{a'} Q_{target}(s',a') $$\n",
        "\n",
        "\n",
        "<img src=https://github.com/yandexdataschool/Practical_RL/raw/master/yet_another_week/_resource/target_net.png width=640>"
      ]
    },
    {
      "cell_type": "code",
      "execution_count": 24,
      "metadata": {
        "colab": {
          "base_uri": "https://localhost:8080/"
        },
        "id": "J8EcP-EalzKC",
        "outputId": "f28c114e-b495-4d10-f639-bd902c47d7af"
      },
      "outputs": [
        {
          "data": {
            "text/plain": [
              "<All keys matched successfully>"
            ]
          },
          "execution_count": 24,
          "metadata": {},
          "output_type": "execute_result"
        }
      ],
      "source": [
        "target_network = DQNAgent(agent.state_shape, agent.n_actions, epsilon=0.5).to(device)\n",
        "# This is how you can load weights from agent into target network\n",
        "target_network.load_state_dict(agent.state_dict())"
      ]
    },
    {
      "cell_type": "markdown",
      "metadata": {
        "id": "9AcerRe0lzKC"
      },
      "source": [
        "# Learning with... Q-learning\n",
        "Here we write a function similar to `agent.update` from tabular q-learning.\n",
        "\n",
        "Compute Q-learning TD error:\n",
        "\n",
        "$$ L = { 1 \\over N} \\sum_i [ Q_{\\theta}(s,a) - Q_{reference}(s,a) ] ^2 $$\n",
        "\n",
        "With Q-reference defined as\n",
        "\n",
        "$$ Q_{reference}(s,a) = r(s,a) + \\gamma \\cdot \\max_{a'} Q_{target}(s', a') $$\n",
        "\n",
        "Where\n",
        "* $Q_{target}(s',a')$ denotes q-value of next state and next action predicted by __target_network__\n",
        "* $s, a, r, s'$ are current state, action, reward and next state respectively\n",
        "* $\\gamma$ is a discount factor defined two cells above.\n",
        "\n",
        "\n",
        "__Note 1:__ there's an example input below. Feel free to experiment with it before you write the function.\n",
        "\n",
        "__Note 2:__ compute_td_loss is a source of 99% of bugs in this homework. If reward doesn't improve, it often helps to go through it line by line [with a rubber duck](https://rubberduckdebugging.com/)."
      ]
    },
    {
      "cell_type": "code",
      "execution_count": 25,
      "metadata": {
        "id": "8f_wcCcVlzKC"
      },
      "outputs": [],
      "source": [
        "def compute_td_loss(states, actions, rewards, next_states, is_done,\n",
        "                    agent, target_network,\n",
        "                    gamma=0.99,\n",
        "                    check_shapes=False,\n",
        "                    device=device):\n",
        "    \"\"\" Compute td loss using torch operations only. Use the formulae above. \"\"\"\n",
        "    states = torch.tensor(states, device=device, dtype=torch.float)    # shape: [batch_size, *state_shape]\n",
        "\n",
        "    # for some torch reason should not make actions a tensor\n",
        "    actions = torch.tensor(actions, device=device, dtype=torch.long)    # shape: [batch_size]\n",
        "    rewards = torch.tensor(rewards, device=device, dtype=torch.float)  # shape: [batch_size]\n",
        "    # shape: [batch_size, *state_shape]\n",
        "    next_states = torch.tensor(next_states, device=device, dtype=torch.float)\n",
        "    is_done = torch.tensor(\n",
        "        is_done.astype('float32'),\n",
        "        device=device,\n",
        "        dtype=torch.float\n",
        "    )  # shape: [batch_size]\n",
        "    is_not_done = 1 - is_done\n",
        "\n",
        "    # get q-values for all actions in current states\n",
        "    predicted_qvalues = agent(states)\n",
        "    assert predicted_qvalues.requires_grad, \"qvalues must be a torch tensor with grad\"\n",
        "\n",
        "    # compute q-values for all actions in next states\n",
        "    with torch.no_grad():\n",
        "        predicted_next_qvalues = target_network(next_states)\n",
        "\n",
        "    # select q-values for chosen actions\n",
        "    predicted_qvalues_for_actions = predicted_qvalues[\n",
        "      range(states.shape[0]), actions\n",
        "    ]\n",
        "\n",
        "    # compute V*(next_states) using predicted next q-values\n",
        "    next_state_values = torch.max(predicted_next_qvalues, dim=1).values\n",
        "\n",
        "    assert next_state_values.dim() == 1 and next_state_values.shape[0] == states.shape[0], \"must predict one value per state\"\n",
        "\n",
        "    # compute \"target q-values\" for loss - it's what's inside square parentheses in the above formula.\n",
        "    # at the last state use the simplified formula: Q(s,a) = r(s,a) since s' doesn't exist\n",
        "    # you can multiply next state values by is_not_done to achieve this.\n",
        "    target_qvalues_for_actions = rewards + gamma * is_not_done * next_state_values\n",
        "\n",
        "    assert target_qvalues_for_actions.requires_grad == False, \"do not send gradients to target!\"\n",
        "\n",
        "    # mean squared error loss to minimize\n",
        "    loss = torch.mean((predicted_qvalues_for_actions - target_qvalues_for_actions)**2)\n",
        "\n",
        "    if check_shapes:\n",
        "        assert predicted_next_qvalues.data.dim() == 2, \"make sure you predicted q-values for all actions in next state\"\n",
        "        assert next_state_values.data.dim() == 1, \"make sure you computed V(s') as maximum over just the actions axis and not all axes\"\n",
        "        assert target_qvalues_for_actions.data.dim() == 1, \"there's something wrong with target q-values, they must be a vector\"\n",
        "\n",
        "    return loss"
      ]
    },
    {
      "cell_type": "markdown",
      "metadata": {
        "id": "w4UIxAN6lzKC"
      },
      "source": [
        "Sanity checks"
      ]
    },
    {
      "cell_type": "code",
      "execution_count": 26,
      "metadata": {
        "id": "GsQniiIrlzKC"
      },
      "outputs": [],
      "source": [
        "obs_batch, act_batch, reward_batch, next_obs_batch, is_done_batch = exp_replay.sample(10)\n",
        "\n",
        "loss = compute_td_loss(obs_batch, act_batch, reward_batch, next_obs_batch, is_done_batch,\n",
        "                       agent, target_network,\n",
        "                       gamma=0.99, check_shapes=True)\n",
        "loss.backward()\n",
        "\n",
        "assert loss.requires_grad and tuple(loss.data.size()) == (), \"you must return scalar loss - mean over batch\"\n",
        "assert np.any(next(agent.parameters()).grad.data.cpu().numpy() != 0), \"loss must be differentiable w.r.t. network weights\"\n",
        "assert np.all(next(target_network.parameters()).grad is None), \"target network should not have grads\""
      ]
    },
    {
      "cell_type": "code",
      "execution_count": 27,
      "metadata": {
        "id": "uMQ4gwdMlzKC"
      },
      "outputs": [],
      "source": [
        "obs_batch, act_batch, reward_batch, next_obs_batch, is_done_batch = exp_replay.sample(\n",
        "    10)\n",
        "\n",
        "loss = compute_td_loss(obs_batch, act_batch, reward_batch, next_obs_batch, is_done_batch,\n",
        "                       agent, target_network,\n",
        "                       gamma=0.99, check_shapes=True)\n",
        "loss.backward()\n",
        "\n",
        "assert loss.requires_grad and tuple(loss.data.size()) == (\n",
        "    ), \"you must return scalar loss - mean over batch\"\n",
        "assert np.any(next(agent.parameters()).grad.data.cpu().numpy() !=\n",
        "              0), \"loss must be differentiable w.r.t. network weights\"\n",
        "assert np.all(next(target_network.parameters()).grad is None), \"target network should not have grads\""
      ]
    },
    {
      "cell_type": "markdown",
      "metadata": {
        "id": "fXlrmAA5lzKC"
      },
      "source": [
        "# Main loop\n",
        "\n",
        "It's time to put everything together and see if it learns anything."
      ]
    },
    {
      "cell_type": "code",
      "execution_count": 28,
      "metadata": {
        "id": "JSz9z3QhlzKD"
      },
      "outputs": [],
      "source": [
        "from tqdm import trange\n",
        "from IPython.display import clear_output\n",
        "import matplotlib.pyplot as plt"
      ]
    },
    {
      "cell_type": "code",
      "execution_count": 29,
      "metadata": {
        "colab": {
          "base_uri": "https://localhost:8080/"
        },
        "id": "Z6dfiFzwlzKD",
        "outputId": "fea013ce-b659-4340-c17f-ec4686de2ed8"
      },
      "outputs": [
        {
          "data": {
            "text/plain": [
              "<torch._C.Generator at 0x793851a46930>"
            ]
          },
          "execution_count": 29,
          "metadata": {},
          "output_type": "execute_result"
        }
      ],
      "source": [
        "seed = 1\n",
        "random.seed(seed)\n",
        "np.random.seed(seed)\n",
        "torch.manual_seed(seed)"
      ]
    },
    {
      "cell_type": "code",
      "execution_count": 30,
      "metadata": {
        "colab": {
          "base_uri": "https://localhost:8080/"
        },
        "id": "vX7vGa6clzKD",
        "outputId": "1e35011b-e237-4608-ea46-61757efa24be"
      },
      "outputs": [
        {
          "data": {
            "text/plain": [
              "<All keys matched successfully>"
            ]
          },
          "execution_count": 30,
          "metadata": {},
          "output_type": "execute_result"
        }
      ],
      "source": [
        "env = make_env(seed)\n",
        "state_shape = env.observation_space.shape\n",
        "n_actions = env.action_space.n\n",
        "state, _ = env.reset()\n",
        "\n",
        "agent = DQNAgent(state_shape, n_actions, epsilon=1).to(device)\n",
        "target_network = DQNAgent(state_shape, n_actions).to(device)\n",
        "target_network.load_state_dict(agent.state_dict())"
      ]
    },
    {
      "cell_type": "markdown",
      "metadata": {
        "id": "j68ImmDzlzKD"
      },
      "source": [
        "Buffer of size $10^4$ fits into 5 Gb RAM.\n",
        "\n",
        "Larger sizes ($10^5$ and $10^6$ are common) can be used. It can improve the learning, but $10^4$ is quiet enough. $10^2$ will probably fail learning."
      ]
    },
    {
      "cell_type": "code",
      "execution_count": 31,
      "metadata": {
        "colab": {
          "base_uri": "https://localhost:8080/"
        },
        "id": "_TCJ5yN8lzKD",
        "outputId": "beec6b8a-2684-4573-e532-0ab950e62642"
      },
      "outputs": [
        {
          "name": "stdout",
          "output_type": "stream",
          "text": [
            "10000\n"
          ]
        }
      ],
      "source": [
        "exp_replay = ReplayBuffer(10**4)\n",
        "for i in range(100):\n",
        "    if not utils.is_enough_ram(min_available_gb=0.1):\n",
        "        print(\"\"\"\n",
        "            Less than 100 Mb RAM available.\n",
        "            Make sure the buffer size in not too huge.\n",
        "            Also check, maybe other processes consume RAM heavily.\n",
        "            \"\"\")\n",
        "        break\n",
        "    play_and_record(state, agent, env, exp_replay, n_steps=10**2)\n",
        "    if len(exp_replay) == 10**4:\n",
        "        break\n",
        "print(len(exp_replay))"
      ]
    },
    {
      "cell_type": "code",
      "execution_count": 31,
      "metadata": {
        "id": "Bx_sWgJSlzKD"
      },
      "outputs": [],
      "source": [
        "timesteps_per_epoch = 1\n",
        "batch_size = 32\n",
        "total_steps = 3 * 10**6\n",
        "decay_steps = 10**6\n",
        "\n",
        "opt = torch.optim.Adam(agent.parameters(), lr=1e-4)\n",
        "\n",
        "init_epsilon = 1\n",
        "final_epsilon = 0.1\n",
        "\n",
        "loss_freq = 50\n",
        "refresh_target_network_freq = 5000\n",
        "eval_freq = 5000\n",
        "\n",
        "max_grad_norm = 50\n",
        "\n",
        "n_lives = 5"
      ]
    },
    {
      "cell_type": "code",
      "execution_count": 32,
      "metadata": {
        "id": "UxFUQdaxlzKD"
      },
      "outputs": [],
      "source": [
        "mean_rw_history = []\n",
        "td_loss_history = []\n",
        "grad_norm_history = []\n",
        "initial_state_v_history = []"
      ]
    },
    {
      "cell_type": "code",
      "execution_count": 33,
      "metadata": {
        "colab": {
          "base_uri": "https://localhost:8080/"
        },
        "id": "kgQFOLGq9x3_",
        "outputId": "94a01168-668f-427a-8b48-5016a869fee6"
      },
      "outputs": [
        {
          "data": {
            "text/plain": [
              "(4, 64, 64)"
            ]
          },
          "execution_count": 33,
          "metadata": {},
          "output_type": "execute_result"
        }
      ],
      "source": [
        "np.shape(state)"
      ]
    },
    {
      "cell_type": "code",
      "execution_count": null,
      "metadata": {
        "colab": {
          "base_uri": "https://localhost:8080/",
          "height": 1000
        },
        "id": "yrOhQ0OhlzKD",
        "outputId": "523f6d53-8eda-42ed-a569-20ceadcdbe79"
      },
      "outputs": [
        {
          "name": "stdout",
          "output_type": "stream",
          "text": [
            "buffer size = 10000, epsilon = 0.25300\n"
          ]
        },
        {
          "data": {
            "image/png": "[encoded data removed]",
            "text/plain": [
              "<Figure size 1600x900 with 4 Axes>"
            ]
          },
          "metadata": {},
          "output_type": "display_data"
        },
        {
          "name": "stderr",
          "output_type": "stream",
          "text": [
            " 28%|██▊       | 835000/3000001 [3:06:25<8:03:20, 74.65it/s]\n"
          ]
        },
        {
          "ename": "KeyboardInterrupt",
          "evalue": "",
          "output_type": "error",
          "traceback": [
            "\u001b[0;31m---------------------------------------------------------------------------\u001b[0m",
            "\u001b[0;31mKeyboardInterrupt\u001b[0m                         Traceback (most recent call last)",
            "\u001b[0;32m<ipython-input-59-cc947c53c60a>\u001b[0m in \u001b[0;36m<cell line: 2>\u001b[0;34m()\u001b[0m\n\u001b[1;32m     40\u001b[0m \u001b[0;34m\u001b[0m\u001b[0m\n\u001b[1;32m     41\u001b[0m     \u001b[0;32mif\u001b[0m \u001b[0mstep\u001b[0m \u001b[0;34m%\u001b[0m \u001b[0meval_freq\u001b[0m \u001b[0;34m==\u001b[0m \u001b[0;36m0\u001b[0m\u001b[0;34m:\u001b[0m\u001b[0;34m\u001b[0m\u001b[0;34m\u001b[0m\u001b[0m\n\u001b[0;32m---> 42\u001b[0;31m         mean_rw_history.append(evaluate(\n\u001b[0m\u001b[1;32m     43\u001b[0m             make_env(clip_rewards=True, seed=step), agent, n_games=3 * n_lives, greedy=True)\n\u001b[1;32m     44\u001b[0m         )\n",
            "\u001b[0;32m<ipython-input-30-fe4686b0cd27>\u001b[0m in \u001b[0;36mevaluate\u001b[0;34m(env, agent, n_games, greedy, t_max)\u001b[0m\n\u001b[1;32m      8\u001b[0m             \u001b[0mqvalues\u001b[0m \u001b[0;34m=\u001b[0m \u001b[0magent\u001b[0m\u001b[0;34m.\u001b[0m\u001b[0mget_qvalues\u001b[0m\u001b[0;34m(\u001b[0m\u001b[0;34m[\u001b[0m\u001b[0ms\u001b[0m\u001b[0;34m]\u001b[0m\u001b[0;34m)\u001b[0m\u001b[0;34m\u001b[0m\u001b[0;34m\u001b[0m\u001b[0m\n\u001b[1;32m      9\u001b[0m             \u001b[0maction\u001b[0m \u001b[0;34m=\u001b[0m \u001b[0mqvalues\u001b[0m\u001b[0;34m.\u001b[0m\u001b[0margmax\u001b[0m\u001b[0;34m(\u001b[0m\u001b[0maxis\u001b[0m\u001b[0;34m=\u001b[0m\u001b[0;34m-\u001b[0m\u001b[0;36m1\u001b[0m\u001b[0;34m)\u001b[0m\u001b[0;34m[\u001b[0m\u001b[0;36m0\u001b[0m\u001b[0;34m]\u001b[0m \u001b[0;32mif\u001b[0m \u001b[0mgreedy\u001b[0m \u001b[0;32melse\u001b[0m \u001b[0magent\u001b[0m\u001b[0;34m.\u001b[0m\u001b[0msample_actions\u001b[0m\u001b[0;34m(\u001b[0m\u001b[0mqvalues\u001b[0m\u001b[0;34m)\u001b[0m\u001b[0;34m[\u001b[0m\u001b[0;36m0\u001b[0m\u001b[0;34m]\u001b[0m\u001b[0;34m\u001b[0m\u001b[0;34m\u001b[0m\u001b[0m\n\u001b[0;32m---> 10\u001b[0;31m             \u001b[0ms\u001b[0m\u001b[0;34m,\u001b[0m \u001b[0mr\u001b[0m\u001b[0;34m,\u001b[0m \u001b[0mterminated\u001b[0m\u001b[0;34m,\u001b[0m \u001b[0mtruncated\u001b[0m\u001b[0;34m,\u001b[0m \u001b[0m_\u001b[0m \u001b[0;34m=\u001b[0m \u001b[0menv\u001b[0m\u001b[0;34m.\u001b[0m\u001b[0mstep\u001b[0m\u001b[0;34m(\u001b[0m\u001b[0maction\u001b[0m\u001b[0;34m)\u001b[0m\u001b[0;34m\u001b[0m\u001b[0;34m\u001b[0m\u001b[0m\n\u001b[0m\u001b[1;32m     11\u001b[0m             \u001b[0mreward\u001b[0m \u001b[0;34m+=\u001b[0m \u001b[0mr\u001b[0m\u001b[0;34m\u001b[0m\u001b[0;34m\u001b[0m\u001b[0m\n\u001b[1;32m     12\u001b[0m             \u001b[0;32mif\u001b[0m \u001b[0mterminated\u001b[0m \u001b[0;32mor\u001b[0m \u001b[0mtruncated\u001b[0m\u001b[0;34m:\u001b[0m\u001b[0;34m\u001b[0m\u001b[0;34m\u001b[0m\u001b[0m\n",
            "\u001b[0;32m/content/framebuffer.py\u001b[0m in \u001b[0;36mstep\u001b[0;34m(self, action)\u001b[0m\n\u001b[1;32m     29\u001b[0m     \u001b[0;32mdef\u001b[0m \u001b[0mstep\u001b[0m\u001b[0;34m(\u001b[0m\u001b[0mself\u001b[0m\u001b[0;34m,\u001b[0m \u001b[0maction\u001b[0m\u001b[0;34m)\u001b[0m\u001b[0;34m:\u001b[0m\u001b[0;34m\u001b[0m\u001b[0;34m\u001b[0m\u001b[0m\n\u001b[1;32m     30\u001b[0m         \u001b[0;34m\"\"\"plays breakout for 1 step, returns frame buffer\"\"\"\u001b[0m\u001b[0;34m\u001b[0m\u001b[0;34m\u001b[0m\u001b[0m\n\u001b[0;32m---> 31\u001b[0;31m         \u001b[0mnew_img\u001b[0m\u001b[0;34m,\u001b[0m \u001b[0mreward\u001b[0m\u001b[0;34m,\u001b[0m \u001b[0mterminated\u001b[0m\u001b[0;34m,\u001b[0m \u001b[0mtruncated\u001b[0m\u001b[0;34m,\u001b[0m \u001b[0minfo\u001b[0m \u001b[0;34m=\u001b[0m \u001b[0mself\u001b[0m\u001b[0;34m.\u001b[0m\u001b[0menv\u001b[0m\u001b[0;34m.\u001b[0m\u001b[0mstep\u001b[0m\u001b[0;34m(\u001b[0m\u001b[0maction\u001b[0m\u001b[0;34m)\u001b[0m\u001b[0;34m\u001b[0m\u001b[0;34m\u001b[0m\u001b[0m\n\u001b[0m\u001b[1;32m     32\u001b[0m         \u001b[0mself\u001b[0m\u001b[0;34m.\u001b[0m\u001b[0mupdate_buffer\u001b[0m\u001b[0;34m(\u001b[0m\u001b[0mnew_img\u001b[0m\u001b[0;34m)\u001b[0m\u001b[0;34m\u001b[0m\u001b[0;34m\u001b[0m\u001b[0m\n\u001b[1;32m     33\u001b[0m         \u001b[0;32mreturn\u001b[0m \u001b[0mself\u001b[0m\u001b[0;34m.\u001b[0m\u001b[0mframebuffer\u001b[0m\u001b[0;34m,\u001b[0m \u001b[0mreward\u001b[0m\u001b[0;34m,\u001b[0m \u001b[0mterminated\u001b[0m\u001b[0;34m,\u001b[0m \u001b[0mtruncated\u001b[0m\u001b[0;34m,\u001b[0m \u001b[0minfo\u001b[0m\u001b[0;34m\u001b[0m\u001b[0;34m\u001b[0m\u001b[0m\n",
            "\u001b[0;32m/usr/local/lib/python3.10/dist-packages/gymnasium/core.py\u001b[0m in \u001b[0;36mstep\u001b[0;34m(self, action)\u001b[0m\n\u001b[1;32m    520\u001b[0m     ) -> tuple[WrapperObsType, SupportsFloat, bool, bool, dict[str, Any]]:\n\u001b[1;32m    521\u001b[0m         \u001b[0;34m\"\"\"Modifies the :attr:`env` after calling :meth:`step` using :meth:`self.observation` on the returned observations.\"\"\"\u001b[0m\u001b[0;34m\u001b[0m\u001b[0;34m\u001b[0m\u001b[0m\n\u001b[0;32m--> 522\u001b[0;31m         \u001b[0mobservation\u001b[0m\u001b[0;34m,\u001b[0m \u001b[0mreward\u001b[0m\u001b[0;34m,\u001b[0m \u001b[0mterminated\u001b[0m\u001b[0;34m,\u001b[0m \u001b[0mtruncated\u001b[0m\u001b[0;34m,\u001b[0m \u001b[0minfo\u001b[0m \u001b[0;34m=\u001b[0m \u001b[0mself\u001b[0m\u001b[0;34m.\u001b[0m\u001b[0menv\u001b[0m\u001b[0;34m.\u001b[0m\u001b[0mstep\u001b[0m\u001b[0;34m(\u001b[0m\u001b[0maction\u001b[0m\u001b[0;34m)\u001b[0m\u001b[0;34m\u001b[0m\u001b[0;34m\u001b[0m\u001b[0m\n\u001b[0m\u001b[1;32m    523\u001b[0m         \u001b[0;32mreturn\u001b[0m \u001b[0mself\u001b[0m\u001b[0;34m.\u001b[0m\u001b[0mobservation\u001b[0m\u001b[0;34m(\u001b[0m\u001b[0mobservation\u001b[0m\u001b[0;34m)\u001b[0m\u001b[0;34m,\u001b[0m \u001b[0mreward\u001b[0m\u001b[0;34m,\u001b[0m \u001b[0mterminated\u001b[0m\u001b[0;34m,\u001b[0m \u001b[0mtruncated\u001b[0m\u001b[0;34m,\u001b[0m \u001b[0minfo\u001b[0m\u001b[0;34m\u001b[0m\u001b[0;34m\u001b[0m\u001b[0m\n\u001b[1;32m    524\u001b[0m \u001b[0;34m\u001b[0m\u001b[0m\n",
            "\u001b[0;32m/usr/local/lib/python3.10/dist-packages/gymnasium/core.py\u001b[0m in \u001b[0;36mstep\u001b[0;34m(self, action)\u001b[0m\n\u001b[1;32m    553\u001b[0m     ) -> tuple[ObsType, SupportsFloat, bool, bool, dict[str, Any]]:\n\u001b[1;32m    554\u001b[0m         \u001b[0;34m\"\"\"Modifies the :attr:`env` :meth:`step` reward using :meth:`self.reward`.\"\"\"\u001b[0m\u001b[0;34m\u001b[0m\u001b[0;34m\u001b[0m\u001b[0m\n\u001b[0;32m--> 555\u001b[0;31m         \u001b[0mobservation\u001b[0m\u001b[0;34m,\u001b[0m \u001b[0mreward\u001b[0m\u001b[0;34m,\u001b[0m \u001b[0mterminated\u001b[0m\u001b[0;34m,\u001b[0m \u001b[0mtruncated\u001b[0m\u001b[0;34m,\u001b[0m \u001b[0minfo\u001b[0m \u001b[0;34m=\u001b[0m \u001b[0mself\u001b[0m\u001b[0;34m.\u001b[0m\u001b[0menv\u001b[0m\u001b[0;34m.\u001b[0m\u001b[0mstep\u001b[0m\u001b[0;34m(\u001b[0m\u001b[0maction\u001b[0m\u001b[0;34m)\u001b[0m\u001b[0;34m\u001b[0m\u001b[0;34m\u001b[0m\u001b[0m\n\u001b[0m\u001b[1;32m    556\u001b[0m         \u001b[0;32mreturn\u001b[0m \u001b[0mobservation\u001b[0m\u001b[0;34m,\u001b[0m \u001b[0mself\u001b[0m\u001b[0;34m.\u001b[0m\u001b[0mreward\u001b[0m\u001b[0;34m(\u001b[0m\u001b[0mreward\u001b[0m\u001b[0;34m)\u001b[0m\u001b[0;34m,\u001b[0m \u001b[0mterminated\u001b[0m\u001b[0;34m,\u001b[0m \u001b[0mtruncated\u001b[0m\u001b[0;34m,\u001b[0m \u001b[0minfo\u001b[0m\u001b[0;34m\u001b[0m\u001b[0;34m\u001b[0m\u001b[0m\n\u001b[1;32m    557\u001b[0m \u001b[0;34m\u001b[0m\u001b[0m\n",
            "\u001b[0;32m/usr/local/lib/python3.10/dist-packages/gymnasium/core.py\u001b[0m in \u001b[0;36mstep\u001b[0;34m(self, action)\u001b[0m\n\u001b[1;32m    459\u001b[0m     ) -> tuple[WrapperObsType, SupportsFloat, bool, bool, dict[str, Any]]:\n\u001b[1;32m    460\u001b[0m         \u001b[0;34m\"\"\"Uses the :meth:`step` of the :attr:`env` that can be overwritten to change the returned data.\"\"\"\u001b[0m\u001b[0;34m\u001b[0m\u001b[0;34m\u001b[0m\u001b[0m\n\u001b[0;32m--> 461\u001b[0;31m         \u001b[0;32mreturn\u001b[0m \u001b[0mself\u001b[0m\u001b[0;34m.\u001b[0m\u001b[0menv\u001b[0m\u001b[0;34m.\u001b[0m\u001b[0mstep\u001b[0m\u001b[0;34m(\u001b[0m\u001b[0maction\u001b[0m\u001b[0;34m)\u001b[0m\u001b[0;34m\u001b[0m\u001b[0;34m\u001b[0m\u001b[0m\n\u001b[0m\u001b[1;32m    462\u001b[0m \u001b[0;34m\u001b[0m\u001b[0m\n\u001b[1;32m    463\u001b[0m     def reset(\n",
            "\u001b[0;32m/content/atari_wrappers.py\u001b[0m in \u001b[0;36mstep\u001b[0;34m(self, action)\u001b[0m\n\u001b[1;32m     72\u001b[0m \u001b[0;34m\u001b[0m\u001b[0m\n\u001b[1;32m     73\u001b[0m     \u001b[0;32mdef\u001b[0m \u001b[0mstep\u001b[0m\u001b[0;34m(\u001b[0m\u001b[0mself\u001b[0m\u001b[0;34m,\u001b[0m \u001b[0maction\u001b[0m\u001b[0;34m)\u001b[0m\u001b[0;34m:\u001b[0m\u001b[0;34m\u001b[0m\u001b[0;34m\u001b[0m\u001b[0m\n\u001b[0;32m---> 74\u001b[0;31m         \u001b[0mobs\u001b[0m\u001b[0;34m,\u001b[0m \u001b[0mreward\u001b[0m\u001b[0;34m,\u001b[0m \u001b[0mterminated\u001b[0m\u001b[0;34m,\u001b[0m \u001b[0mtruncated\u001b[0m\u001b[0;34m,\u001b[0m \u001b[0minfo\u001b[0m \u001b[0;34m=\u001b[0m \u001b[0mself\u001b[0m\u001b[0;34m.\u001b[0m\u001b[0menv\u001b[0m\u001b[0;34m.\u001b[0m\u001b[0mstep\u001b[0m\u001b[0;34m(\u001b[0m\u001b[0maction\u001b[0m\u001b[0;34m)\u001b[0m\u001b[0;34m\u001b[0m\u001b[0;34m\u001b[0m\u001b[0m\n\u001b[0m\u001b[1;32m     75\u001b[0m         \u001b[0mself\u001b[0m\u001b[0;34m.\u001b[0m\u001b[0mwas_real_done\u001b[0m \u001b[0;34m=\u001b[0m \u001b[0mterminated\u001b[0m \u001b[0;32mor\u001b[0m \u001b[0mtruncated\u001b[0m\u001b[0;34m\u001b[0m\u001b[0;34m\u001b[0m\u001b[0m\n\u001b[1;32m     76\u001b[0m         \u001b[0;31m# check current lives, make loss of life terminal,\u001b[0m\u001b[0;34m\u001b[0m\u001b[0;34m\u001b[0m\u001b[0m\n",
            "\u001b[0;32m/content/atari_wrappers.py\u001b[0m in \u001b[0;36mstep\u001b[0;34m(self, action)\u001b[0m\n\u001b[1;32m     20\u001b[0m         \u001b[0mterminated\u001b[0m \u001b[0;34m=\u001b[0m \u001b[0mtruncated\u001b[0m \u001b[0;34m=\u001b[0m \u001b[0;32mFalse\u001b[0m\u001b[0;34m\u001b[0m\u001b[0;34m\u001b[0m\u001b[0m\n\u001b[1;32m     21\u001b[0m         \u001b[0;32mfor\u001b[0m \u001b[0mi\u001b[0m \u001b[0;32min\u001b[0m \u001b[0mrange\u001b[0m\u001b[0;34m(\u001b[0m\u001b[0mself\u001b[0m\u001b[0;34m.\u001b[0m\u001b[0m_skip\u001b[0m\u001b[0;34m)\u001b[0m\u001b[0;34m:\u001b[0m\u001b[0;34m\u001b[0m\u001b[0;34m\u001b[0m\u001b[0m\n\u001b[0;32m---> 22\u001b[0;31m             \u001b[0mobs\u001b[0m\u001b[0;34m,\u001b[0m \u001b[0mreward\u001b[0m\u001b[0;34m,\u001b[0m \u001b[0mterminated\u001b[0m\u001b[0;34m,\u001b[0m \u001b[0mtruncated\u001b[0m\u001b[0;34m,\u001b[0m \u001b[0minfo\u001b[0m \u001b[0;34m=\u001b[0m \u001b[0mself\u001b[0m\u001b[0;34m.\u001b[0m\u001b[0menv\u001b[0m\u001b[0;34m.\u001b[0m\u001b[0mstep\u001b[0m\u001b[0;34m(\u001b[0m\u001b[0maction\u001b[0m\u001b[0;34m)\u001b[0m\u001b[0;34m\u001b[0m\u001b[0;34m\u001b[0m\u001b[0m\n\u001b[0m\u001b[1;32m     23\u001b[0m             \u001b[0;32mif\u001b[0m \u001b[0mi\u001b[0m \u001b[0;34m==\u001b[0m \u001b[0mself\u001b[0m\u001b[0;34m.\u001b[0m\u001b[0m_skip\u001b[0m \u001b[0;34m-\u001b[0m \u001b[0;36m2\u001b[0m\u001b[0;34m:\u001b[0m\u001b[0;34m\u001b[0m\u001b[0;34m\u001b[0m\u001b[0m\n\u001b[1;32m     24\u001b[0m                 \u001b[0mself\u001b[0m\u001b[0;34m.\u001b[0m\u001b[0m_obs_buffer\u001b[0m\u001b[0;34m[\u001b[0m\u001b[0;36m0\u001b[0m\u001b[0;34m]\u001b[0m \u001b[0;34m=\u001b[0m \u001b[0mobs\u001b[0m\u001b[0;34m\u001b[0m\u001b[0;34m\u001b[0m\u001b[0m\n",
            "\u001b[0;32m/usr/local/lib/python3.10/dist-packages/gymnasium/wrappers/order_enforcing.py\u001b[0m in \u001b[0;36mstep\u001b[0;34m(self, action)\u001b[0m\n\u001b[1;32m     54\u001b[0m         \u001b[0;32mif\u001b[0m \u001b[0;32mnot\u001b[0m \u001b[0mself\u001b[0m\u001b[0;34m.\u001b[0m\u001b[0m_has_reset\u001b[0m\u001b[0;34m:\u001b[0m\u001b[0;34m\u001b[0m\u001b[0;34m\u001b[0m\u001b[0m\n\u001b[1;32m     55\u001b[0m             \u001b[0;32mraise\u001b[0m \u001b[0mResetNeeded\u001b[0m\u001b[0;34m(\u001b[0m\u001b[0;34m\"Cannot call env.step() before calling env.reset()\"\u001b[0m\u001b[0;34m)\u001b[0m\u001b[0;34m\u001b[0m\u001b[0;34m\u001b[0m\u001b[0m\n\u001b[0;32m---> 56\u001b[0;31m         \u001b[0;32mreturn\u001b[0m \u001b[0mself\u001b[0m\u001b[0;34m.\u001b[0m\u001b[0menv\u001b[0m\u001b[0;34m.\u001b[0m\u001b[0mstep\u001b[0m\u001b[0;34m(\u001b[0m\u001b[0maction\u001b[0m\u001b[0;34m)\u001b[0m\u001b[0;34m\u001b[0m\u001b[0;34m\u001b[0m\u001b[0m\n\u001b[0m\u001b[1;32m     57\u001b[0m \u001b[0;34m\u001b[0m\u001b[0m\n\u001b[1;32m     58\u001b[0m     \u001b[0;32mdef\u001b[0m \u001b[0mreset\u001b[0m\u001b[0;34m(\u001b[0m\u001b[0mself\u001b[0m\u001b[0;34m,\u001b[0m \u001b[0;34m**\u001b[0m\u001b[0mkwargs\u001b[0m\u001b[0;34m)\u001b[0m\u001b[0;34m:\u001b[0m\u001b[0;34m\u001b[0m\u001b[0;34m\u001b[0m\u001b[0m\n",
            "\u001b[0;32m/usr/local/lib/python3.10/dist-packages/gymnasium/wrappers/env_checker.py\u001b[0m in \u001b[0;36mstep\u001b[0;34m(self, action)\u001b[0m\n\u001b[1;32m     49\u001b[0m             \u001b[0;32mreturn\u001b[0m \u001b[0menv_step_passive_checker\u001b[0m\u001b[0;34m(\u001b[0m\u001b[0mself\u001b[0m\u001b[0;34m.\u001b[0m\u001b[0menv\u001b[0m\u001b[0;34m,\u001b[0m \u001b[0maction\u001b[0m\u001b[0;34m)\u001b[0m\u001b[0;34m\u001b[0m\u001b[0;34m\u001b[0m\u001b[0m\n\u001b[1;32m     50\u001b[0m         \u001b[0;32melse\u001b[0m\u001b[0;34m:\u001b[0m\u001b[0;34m\u001b[0m\u001b[0;34m\u001b[0m\u001b[0m\n\u001b[0;32m---> 51\u001b[0;31m             \u001b[0;32mreturn\u001b[0m \u001b[0mself\u001b[0m\u001b[0;34m.\u001b[0m\u001b[0menv\u001b[0m\u001b[0;34m.\u001b[0m\u001b[0mstep\u001b[0m\u001b[0;34m(\u001b[0m\u001b[0maction\u001b[0m\u001b[0;34m)\u001b[0m\u001b[0;34m\u001b[0m\u001b[0;34m\u001b[0m\u001b[0m\n\u001b[0m\u001b[1;32m     52\u001b[0m \u001b[0;34m\u001b[0m\u001b[0m\n\u001b[1;32m     53\u001b[0m     \u001b[0;32mdef\u001b[0m \u001b[0mreset\u001b[0m\u001b[0;34m(\u001b[0m\u001b[0mself\u001b[0m\u001b[0;34m,\u001b[0m \u001b[0;34m**\u001b[0m\u001b[0mkwargs\u001b[0m\u001b[0;34m)\u001b[0m\u001b[0;34m:\u001b[0m\u001b[0;34m\u001b[0m\u001b[0;34m\u001b[0m\u001b[0m\n",
            "\u001b[0;32m/usr/local/lib/python3.10/dist-packages/shimmy/atari_env.py\u001b[0m in \u001b[0;36mstep\u001b[0;34m(self, action_ind)\u001b[0m\n\u001b[1;32m    292\u001b[0m         \u001b[0mreward\u001b[0m \u001b[0;34m=\u001b[0m \u001b[0;36m0.0\u001b[0m\u001b[0;34m\u001b[0m\u001b[0;34m\u001b[0m\u001b[0m\n\u001b[1;32m    293\u001b[0m         \u001b[0;32mfor\u001b[0m \u001b[0m_\u001b[0m \u001b[0;32min\u001b[0m \u001b[0mrange\u001b[0m\u001b[0;34m(\u001b[0m\u001b[0mframeskip\u001b[0m\u001b[0;34m)\u001b[0m\u001b[0;34m:\u001b[0m\u001b[0;34m\u001b[0m\u001b[0;34m\u001b[0m\u001b[0m\n\u001b[0;32m--> 294\u001b[0;31m             \u001b[0mreward\u001b[0m \u001b[0;34m+=\u001b[0m \u001b[0mself\u001b[0m\u001b[0;34m.\u001b[0m\u001b[0male\u001b[0m\u001b[0;34m.\u001b[0m\u001b[0mact\u001b[0m\u001b[0;34m(\u001b[0m\u001b[0maction\u001b[0m\u001b[0;34m)\u001b[0m\u001b[0;34m\u001b[0m\u001b[0;34m\u001b[0m\u001b[0m\n\u001b[0m\u001b[1;32m    295\u001b[0m         \u001b[0mis_terminal\u001b[0m \u001b[0;34m=\u001b[0m \u001b[0mself\u001b[0m\u001b[0;34m.\u001b[0m\u001b[0male\u001b[0m\u001b[0;34m.\u001b[0m\u001b[0mgame_over\u001b[0m\u001b[0;34m(\u001b[0m\u001b[0mwith_truncation\u001b[0m\u001b[0;34m=\u001b[0m\u001b[0;32mFalse\u001b[0m\u001b[0;34m)\u001b[0m\u001b[0;34m\u001b[0m\u001b[0;34m\u001b[0m\u001b[0m\n\u001b[1;32m    296\u001b[0m         \u001b[0mis_truncated\u001b[0m \u001b[0;34m=\u001b[0m \u001b[0mself\u001b[0m\u001b[0;34m.\u001b[0m\u001b[0male\u001b[0m\u001b[0;34m.\u001b[0m\u001b[0mgame_truncated\u001b[0m\u001b[0;34m(\u001b[0m\u001b[0;34m)\u001b[0m\u001b[0;34m\u001b[0m\u001b[0;34m\u001b[0m\u001b[0m\n",
            "\u001b[0;31mKeyboardInterrupt\u001b[0m: "
          ]
        }
      ],
      "source": [
        "state, _ = env.reset()\n",
        "for step in trange(total_steps + 1):\n",
        "    if not utils.is_enough_ram():\n",
        "        print('less that 100 Mb RAM available, freezing')\n",
        "        print('make sure everything is ok and make KeyboardInterrupt to continue')\n",
        "        try:\n",
        "            while True:\n",
        "                pass\n",
        "        except KeyboardInterrupt:\n",
        "            pass\n",
        "\n",
        "    agent.epsilon = utils.linear_decay(init_epsilon, final_epsilon, step, decay_steps)\n",
        "\n",
        "    # play\n",
        "    _, state = play_and_record(state, agent, env, exp_replay, timesteps_per_epoch)\n",
        "\n",
        "    # train\n",
        "    # < sample batch_size of data from experience replay >\n",
        "    states, actions, rewards, next_states, is_done = exp_replay.sample(batch_size)\n",
        "\n",
        "    # loss = < compute TD loss >\n",
        "    loss = compute_td_loss(states, actions, rewards, next_states, is_done,\n",
        "                    agent, target_network,\n",
        "                    gamma=0.99,\n",
        "                    check_shapes=False,\n",
        "                    device=device)\n",
        "\n",
        "    loss.backward()\n",
        "    grad_norm = nn.utils.clip_grad_norm_(agent.parameters(), max_grad_norm)\n",
        "    opt.step()\n",
        "    opt.zero_grad()\n",
        "\n",
        "    if step % loss_freq == 0:\n",
        "        td_loss_history.append(loss.data.cpu().item())\n",
        "        grad_norm_history.append(grad_norm.cpu().item())\n",
        "\n",
        "    if step % refresh_target_network_freq == 0:\n",
        "        # Load agent weights into target_network\n",
        "        target_network.load_state_dict(agent.state_dict())\n",
        "\n",
        "    if step % eval_freq == 0:\n",
        "        mean_rw_history.append(evaluate(\n",
        "            make_env(clip_rewards=True, seed=step), agent, n_games=3 * n_lives, greedy=True)\n",
        "        )\n",
        "        initial_state_q_values = agent.get_qvalues(\n",
        "            [make_env(seed=step).reset()[0]]\n",
        "        )\n",
        "        initial_state_v_history.append(np.max(initial_state_q_values))\n",
        "\n",
        "        clear_output(True)\n",
        "        print(\"buffer size = %i, epsilon = %.5f\" %\n",
        "              (len(exp_replay), agent.epsilon))\n",
        "\n",
        "        plt.figure(figsize=[16, 9])\n",
        "\n",
        "        plt.subplot(2, 2, 1)\n",
        "        plt.title(\"Mean reward per life\")\n",
        "        plt.plot(mean_rw_history)\n",
        "        plt.grid()\n",
        "\n",
        "        assert not np.isnan(td_loss_history[-1])\n",
        "        plt.subplot(2, 2, 2)\n",
        "        plt.title(\"TD loss history (smoothened)\")\n",
        "        plt.plot(utils.smoothen(td_loss_history))\n",
        "        plt.grid()\n",
        "\n",
        "        plt.subplot(2, 2, 3)\n",
        "        plt.title(\"Initial state V\")\n",
        "        plt.plot(initial_state_v_history)\n",
        "        plt.grid()\n",
        "\n",
        "        plt.subplot(2, 2, 4)\n",
        "        plt.title(\"Grad norm history (smoothened)\")\n",
        "        plt.plot(utils.smoothen(grad_norm_history))\n",
        "        plt.grid()\n",
        "\n",
        "        plt.show()"
      ]
    },
    {
      "cell_type": "code",
      "execution_count": null,
      "metadata": {
        "id": "XQOi2K3mliV0"
      },
      "outputs": [],
      "source": [
        "# Checkpoint for target_network\n",
        "torch.save(target_network.state_dict(), 'checkpoint_target_network.pth' )\n"
      ]
    },
    {
      "cell_type": "code",
      "execution_count": null,
      "metadata": {
        "id": "Ag5C41MmlmKo"
      },
      "outputs": [],
      "source": [
        "# Checkpoint for agent\n",
        "torch.save(agent.state_dict(), 'agent.pth')\n"
      ]
    },
    {
      "cell_type": "code",
      "execution_count": null,
      "metadata": {
        "id": "c5WG0s94qY_a"
      },
      "outputs": [],
      "source": [
        "# Checkpoint for buffer\n",
        "\n",
        "import pickle\n",
        "def save_object(obj, filename):\n",
        "    with open(filename, 'wb') as outp:  # Overwrites any existing file.\n",
        "        pickle.dump(obj, outp, pickle.HIGHEST_PROTOCOL)\n",
        "\n",
        "# sample usage\n",
        "save_object(exp_replay, 'exp_replay.pkl')\n"
      ]
    },
    {
      "cell_type": "code",
      "execution_count": null,
      "metadata": {
        "colab": {
          "base_uri": "https://localhost:8080/"
        },
        "id": "Z4R16-wclzKD",
        "outputId": "ab729735-dbc0-42ce-f716-04f1aa4d364b"
      },
      "outputs": [
        {
          "name": "stderr",
          "output_type": "stream",
          "text": [
            "/usr/local/lib/python3.10/dist-packages/gymnasium/core.py:311: UserWarning: \u001b[33mWARN: env.seed to get variables from other wrappers is deprecated and will be removed in v1.0, to get this variable you can do `env.unwrapped.seed` for environment variables or `env.get_wrapper_attr('seed')` that will search the reminding wrappers.\u001b[0m\n",
            "  logger.warn(\n"
          ]
        },
        {
          "name": "stdout",
          "output_type": "stream",
          "text": [
            "final score: 23.0\n",
            "Cool!\n"
          ]
        }
      ],
      "source": [
        "final_score = evaluate(\n",
        "  make_env(clip_rewards=False, seed=9),\n",
        "    agent, n_games=30, greedy=True, t_max=10 * 1000\n",
        ") * n_lives\n",
        "print('final score:', final_score)\n",
        "assert final_score > 15, 'not as cool as DQN can'\n",
        "print('Cool!')"
      ]
    },
    {
      "cell_type": "markdown",
      "metadata": {
        "id": "w563lc8elzKD"
      },
      "source": [
        "# Record a video"
      ]
    },
    {
      "cell_type": "code",
      "execution_count": null,
      "metadata": {
        "colab": {
          "base_uri": "https://localhost:8080/"
        },
        "id": "riZMvAQHlzKE",
        "outputId": "e83354d8-b71d-48ab-fb47-bdfbc2cbc49a"
      },
      "outputs": [
        {
          "name": "stderr",
          "output_type": "stream",
          "text": [
            "/usr/local/lib/python3.10/dist-packages/gymnasium/utils/passive_env_checker.py:335: UserWarning: \u001b[33mWARN: No render fps was declared in the environment (env.metadata['render_fps'] is None or not defined), rendering may occur at inconsistent fps.\u001b[0m\n",
            "  logger.warn(\n"
          ]
        },
        {
          "name": "stdout",
          "output_type": "stream",
          "text": [
            "Moviepy - Building video /content/videos/rl-video-episode-0.mp4.\n",
            "Moviepy - Writing video /content/videos/rl-video-episode-0.mp4\n",
            "\n"
          ]
        },
        {
          "name": "stderr",
          "output_type": "stream",
          "text": []
        },
        {
          "name": "stdout",
          "output_type": "stream",
          "text": [
            "Moviepy - Done !\n",
            "Moviepy - video ready /content/videos/rl-video-episode-0.mp4\n",
            "Moviepy - Building video /content/videos/rl-video-episode-1.mp4.\n",
            "Moviepy - Writing video /content/videos/rl-video-episode-1.mp4\n",
            "\n"
          ]
        },
        {
          "name": "stderr",
          "output_type": "stream",
          "text": [
            "                                                   "
          ]
        },
        {
          "name": "stdout",
          "output_type": "stream",
          "text": [
            "Moviepy - Done !\n",
            "Moviepy - video ready /content/videos/rl-video-episode-1.mp4\n"
          ]
        },
        {
          "name": "stderr",
          "output_type": "stream",
          "text": [
            "\r"
          ]
        },
        {
          "name": "stdout",
          "output_type": "stream",
          "text": [
            "Moviepy - Building video /content/videos/rl-video-episode-2.mp4.\n",
            "Moviepy - Writing video /content/videos/rl-video-episode-2.mp4\n",
            "\n"
          ]
        },
        {
          "name": "stderr",
          "output_type": "stream",
          "text": [
            "                                                                "
          ]
        },
        {
          "name": "stdout",
          "output_type": "stream",
          "text": [
            "Moviepy - Done !\n",
            "Moviepy - video ready /content/videos/rl-video-episode-2.mp4\n"
          ]
        },
        {
          "name": "stderr",
          "output_type": "stream",
          "text": [
            "\r"
          ]
        },
        {
          "name": "stdout",
          "output_type": "stream",
          "text": [
            "Moviepy - Building video /content/videos/rl-video-episode-3.mp4.\n",
            "Moviepy - Writing video /content/videos/rl-video-episode-3.mp4\n",
            "\n"
          ]
        },
        {
          "name": "stderr",
          "output_type": "stream",
          "text": [
            "                                                   "
          ]
        },
        {
          "name": "stdout",
          "output_type": "stream",
          "text": [
            "Moviepy - Done !\n",
            "Moviepy - video ready /content/videos/rl-video-episode-3.mp4\n"
          ]
        },
        {
          "name": "stderr",
          "output_type": "stream",
          "text": [
            "\r"
          ]
        },
        {
          "name": "stdout",
          "output_type": "stream",
          "text": [
            "Moviepy - Building video /content/videos/rl-video-episode-4.mp4.\n",
            "Moviepy - Writing video /content/videos/rl-video-episode-4.mp4\n",
            "\n"
          ]
        },
        {
          "name": "stderr",
          "output_type": "stream",
          "text": [
            "                                                                "
          ]
        },
        {
          "name": "stdout",
          "output_type": "stream",
          "text": [
            "Moviepy - Done !\n",
            "Moviepy - video ready /content/videos/rl-video-episode-4.mp4\n"
          ]
        },
        {
          "name": "stderr",
          "output_type": "stream",
          "text": [
            "\r"
          ]
        },
        {
          "name": "stdout",
          "output_type": "stream",
          "text": [
            "Moviepy - Building video /content/videos/rl-video-episode-5.mp4.\n",
            "Moviepy - Writing video /content/videos/rl-video-episode-5.mp4\n",
            "\n"
          ]
        },
        {
          "name": "stderr",
          "output_type": "stream",
          "text": []
        },
        {
          "name": "stdout",
          "output_type": "stream",
          "text": [
            "Moviepy - Done !\n",
            "Moviepy - video ready /content/videos/rl-video-episode-5.mp4\n",
            "Moviepy - Building video /content/videos/rl-video-episode-6.mp4.\n",
            "Moviepy - Writing video /content/videos/rl-video-episode-6.mp4\n",
            "\n"
          ]
        },
        {
          "name": "stderr",
          "output_type": "stream",
          "text": [
            "                                                   "
          ]
        },
        {
          "name": "stdout",
          "output_type": "stream",
          "text": [
            "Moviepy - Done !\n",
            "Moviepy - video ready /content/videos/rl-video-episode-6.mp4\n"
          ]
        },
        {
          "name": "stderr",
          "output_type": "stream",
          "text": [
            "\r"
          ]
        },
        {
          "name": "stdout",
          "output_type": "stream",
          "text": [
            "Moviepy - Building video /content/videos/rl-video-episode-7.mp4.\n",
            "Moviepy - Writing video /content/videos/rl-video-episode-7.mp4\n",
            "\n"
          ]
        },
        {
          "name": "stderr",
          "output_type": "stream",
          "text": [
            "                                                                "
          ]
        },
        {
          "name": "stdout",
          "output_type": "stream",
          "text": [
            "Moviepy - Done !\n",
            "Moviepy - video ready /content/videos/rl-video-episode-7.mp4\n"
          ]
        },
        {
          "name": "stderr",
          "output_type": "stream",
          "text": [
            "\r"
          ]
        },
        {
          "name": "stdout",
          "output_type": "stream",
          "text": [
            "Moviepy - Building video /content/videos/rl-video-episode-8.mp4.\n",
            "Moviepy - Writing video /content/videos/rl-video-episode-8.mp4\n",
            "\n"
          ]
        },
        {
          "name": "stderr",
          "output_type": "stream",
          "text": [
            "                                                   "
          ]
        },
        {
          "name": "stdout",
          "output_type": "stream",
          "text": [
            "Moviepy - Done !\n",
            "Moviepy - video ready /content/videos/rl-video-episode-8.mp4\n"
          ]
        },
        {
          "name": "stderr",
          "output_type": "stream",
          "text": [
            "\r"
          ]
        },
        {
          "name": "stdout",
          "output_type": "stream",
          "text": [
            "Moviepy - Building video /content/videos/rl-video-episode-9.mp4.\n",
            "Moviepy - Writing video /content/videos/rl-video-episode-9.mp4\n",
            "\n"
          ]
        },
        {
          "name": "stderr",
          "output_type": "stream",
          "text": [
            "                                                                "
          ]
        },
        {
          "name": "stdout",
          "output_type": "stream",
          "text": [
            "Moviepy - Done !\n",
            "Moviepy - video ready /content/videos/rl-video-episode-9.mp4\n"
          ]
        },
        {
          "name": "stderr",
          "output_type": "stream",
          "text": [
            "\r"
          ]
        },
        {
          "name": "stdout",
          "output_type": "stream",
          "text": [
            "Moviepy - Building video /content/videos/rl-video-episode-10.mp4.\n",
            "Moviepy - Writing video /content/videos/rl-video-episode-10.mp4\n",
            "\n"
          ]
        },
        {
          "name": "stderr",
          "output_type": "stream",
          "text": []
        },
        {
          "name": "stdout",
          "output_type": "stream",
          "text": [
            "Moviepy - Done !\n",
            "Moviepy - video ready /content/videos/rl-video-episode-10.mp4\n",
            "Moviepy - Building video /content/videos/rl-video-episode-11.mp4.\n",
            "Moviepy - Writing video /content/videos/rl-video-episode-11.mp4\n",
            "\n"
          ]
        },
        {
          "name": "stderr",
          "output_type": "stream",
          "text": [
            "                                                   "
          ]
        },
        {
          "name": "stdout",
          "output_type": "stream",
          "text": [
            "Moviepy - Done !\n",
            "Moviepy - video ready /content/videos/rl-video-episode-11.mp4\n"
          ]
        },
        {
          "name": "stderr",
          "output_type": "stream",
          "text": [
            "\r"
          ]
        },
        {
          "name": "stdout",
          "output_type": "stream",
          "text": [
            "Moviepy - Building video /content/videos/rl-video-episode-12.mp4.\n",
            "Moviepy - Writing video /content/videos/rl-video-episode-12.mp4\n",
            "\n"
          ]
        },
        {
          "name": "stderr",
          "output_type": "stream",
          "text": [
            "                                                                "
          ]
        },
        {
          "name": "stdout",
          "output_type": "stream",
          "text": [
            "Moviepy - Done !\n",
            "Moviepy - video ready /content/videos/rl-video-episode-12.mp4\n"
          ]
        },
        {
          "name": "stderr",
          "output_type": "stream",
          "text": [
            "\r"
          ]
        },
        {
          "name": "stdout",
          "output_type": "stream",
          "text": [
            "Moviepy - Building video /content/videos/rl-video-episode-13.mp4.\n",
            "Moviepy - Writing video /content/videos/rl-video-episode-13.mp4\n",
            "\n"
          ]
        },
        {
          "name": "stderr",
          "output_type": "stream",
          "text": [
            "                                                   "
          ]
        },
        {
          "name": "stdout",
          "output_type": "stream",
          "text": [
            "Moviepy - Done !\n",
            "Moviepy - video ready /content/videos/rl-video-episode-13.mp4\n"
          ]
        },
        {
          "name": "stderr",
          "output_type": "stream",
          "text": [
            "\r"
          ]
        },
        {
          "name": "stdout",
          "output_type": "stream",
          "text": [
            "Moviepy - Building video /content/videos/rl-video-episode-14.mp4.\n",
            "Moviepy - Writing video /content/videos/rl-video-episode-14.mp4\n",
            "\n"
          ]
        },
        {
          "name": "stderr",
          "output_type": "stream",
          "text": [
            "                                                                "
          ]
        },
        {
          "name": "stdout",
          "output_type": "stream",
          "text": [
            "Moviepy - Done !\n",
            "Moviepy - video ready /content/videos/rl-video-episode-14.mp4\n"
          ]
        },
        {
          "name": "stderr",
          "output_type": "stream",
          "text": [
            "\r"
          ]
        },
        {
          "name": "stdout",
          "output_type": "stream",
          "text": [
            "Moviepy - Building video /content/videos/rl-video-episode-15.mp4.\n",
            "Moviepy - Writing video /content/videos/rl-video-episode-15.mp4\n",
            "\n"
          ]
        },
        {
          "name": "stderr",
          "output_type": "stream",
          "text": []
        },
        {
          "name": "stdout",
          "output_type": "stream",
          "text": [
            "Moviepy - Done !\n",
            "Moviepy - video ready /content/videos/rl-video-episode-15.mp4\n",
            "Moviepy - Building video /content/videos/rl-video-episode-16.mp4.\n",
            "Moviepy - Writing video /content/videos/rl-video-episode-16.mp4\n",
            "\n"
          ]
        },
        {
          "name": "stderr",
          "output_type": "stream",
          "text": [
            "                                                   "
          ]
        },
        {
          "name": "stdout",
          "output_type": "stream",
          "text": [
            "Moviepy - Done !\n",
            "Moviepy - video ready /content/videos/rl-video-episode-16.mp4\n"
          ]
        },
        {
          "name": "stderr",
          "output_type": "stream",
          "text": [
            "\r"
          ]
        },
        {
          "name": "stdout",
          "output_type": "stream",
          "text": [
            "Moviepy - Building video /content/videos/rl-video-episode-17.mp4.\n",
            "Moviepy - Writing video /content/videos/rl-video-episode-17.mp4\n",
            "\n"
          ]
        },
        {
          "name": "stderr",
          "output_type": "stream",
          "text": [
            "                                                                "
          ]
        },
        {
          "name": "stdout",
          "output_type": "stream",
          "text": [
            "Moviepy - Done !\n",
            "Moviepy - video ready /content/videos/rl-video-episode-17.mp4\n"
          ]
        },
        {
          "name": "stderr",
          "output_type": "stream",
          "text": [
            "\r"
          ]
        },
        {
          "name": "stdout",
          "output_type": "stream",
          "text": [
            "Moviepy - Building video /content/videos/rl-video-episode-18.mp4.\n",
            "Moviepy - Writing video /content/videos/rl-video-episode-18.mp4\n",
            "\n"
          ]
        },
        {
          "name": "stderr",
          "output_type": "stream",
          "text": [
            "                                                   "
          ]
        },
        {
          "name": "stdout",
          "output_type": "stream",
          "text": [
            "Moviepy - Done !\n",
            "Moviepy - video ready /content/videos/rl-video-episode-18.mp4\n"
          ]
        },
        {
          "name": "stderr",
          "output_type": "stream",
          "text": [
            "\r"
          ]
        },
        {
          "name": "stdout",
          "output_type": "stream",
          "text": [
            "Moviepy - Building video /content/videos/rl-video-episode-19.mp4.\n",
            "Moviepy - Writing video /content/videos/rl-video-episode-19.mp4\n",
            "\n"
          ]
        },
        {
          "name": "stderr",
          "output_type": "stream",
          "text": [
            "                                                                "
          ]
        },
        {
          "name": "stdout",
          "output_type": "stream",
          "text": [
            "Moviepy - Done !\n",
            "Moviepy - video ready /content/videos/rl-video-episode-19.mp4\n"
          ]
        },
        {
          "name": "stderr",
          "output_type": "stream",
          "text": [
            "\r"
          ]
        },
        {
          "name": "stdout",
          "output_type": "stream",
          "text": [
            "Moviepy - Building video /content/videos/rl-video-episode-20.mp4.\n",
            "Moviepy - Writing video /content/videos/rl-video-episode-20.mp4\n",
            "\n"
          ]
        },
        {
          "name": "stderr",
          "output_type": "stream",
          "text": []
        },
        {
          "name": "stdout",
          "output_type": "stream",
          "text": [
            "Moviepy - Done !\n",
            "Moviepy - video ready /content/videos/rl-video-episode-20.mp4\n",
            "Moviepy - Building video /content/videos/rl-video-episode-21.mp4.\n",
            "Moviepy - Writing video /content/videos/rl-video-episode-21.mp4\n",
            "\n"
          ]
        },
        {
          "name": "stderr",
          "output_type": "stream",
          "text": [
            "                                                   "
          ]
        },
        {
          "name": "stdout",
          "output_type": "stream",
          "text": [
            "Moviepy - Done !\n",
            "Moviepy - video ready /content/videos/rl-video-episode-21.mp4\n"
          ]
        },
        {
          "name": "stderr",
          "output_type": "stream",
          "text": [
            "\r"
          ]
        },
        {
          "name": "stdout",
          "output_type": "stream",
          "text": [
            "Moviepy - Building video /content/videos/rl-video-episode-22.mp4.\n",
            "Moviepy - Writing video /content/videos/rl-video-episode-22.mp4\n",
            "\n"
          ]
        },
        {
          "name": "stderr",
          "output_type": "stream",
          "text": [
            "                                                                "
          ]
        },
        {
          "name": "stdout",
          "output_type": "stream",
          "text": [
            "Moviepy - Done !\n",
            "Moviepy - video ready /content/videos/rl-video-episode-22.mp4\n"
          ]
        },
        {
          "name": "stderr",
          "output_type": "stream",
          "text": [
            "\r"
          ]
        },
        {
          "name": "stdout",
          "output_type": "stream",
          "text": [
            "Moviepy - Building video /content/videos/rl-video-episode-23.mp4.\n",
            "Moviepy - Writing video /content/videos/rl-video-episode-23.mp4\n",
            "\n"
          ]
        },
        {
          "name": "stderr",
          "output_type": "stream",
          "text": [
            "                                                   "
          ]
        },
        {
          "name": "stdout",
          "output_type": "stream",
          "text": [
            "Moviepy - Done !\n",
            "Moviepy - video ready /content/videos/rl-video-episode-23.mp4\n"
          ]
        },
        {
          "name": "stderr",
          "output_type": "stream",
          "text": [
            "\r"
          ]
        },
        {
          "name": "stdout",
          "output_type": "stream",
          "text": [
            "Moviepy - Building video /content/videos/rl-video-episode-24.mp4.\n",
            "Moviepy - Writing video /content/videos/rl-video-episode-24.mp4\n",
            "\n"
          ]
        },
        {
          "name": "stderr",
          "output_type": "stream",
          "text": []
        },
        {
          "name": "stdout",
          "output_type": "stream",
          "text": [
            "Moviepy - Done !\n",
            "Moviepy - video ready /content/videos/rl-video-episode-24.mp4\n",
            "Moviepy - Building video /content/videos/rl-video-episode-25.mp4.\n",
            "Moviepy - Writing video /content/videos/rl-video-episode-25.mp4\n",
            "\n"
          ]
        },
        {
          "name": "stderr",
          "output_type": "stream",
          "text": []
        },
        {
          "name": "stdout",
          "output_type": "stream",
          "text": [
            "Moviepy - Done !\n",
            "Moviepy - video ready /content/videos/rl-video-episode-25.mp4\n",
            "Moviepy - Building video /content/videos/rl-video-episode-26.mp4.\n",
            "Moviepy - Writing video /content/videos/rl-video-episode-26.mp4\n",
            "\n"
          ]
        },
        {
          "name": "stderr",
          "output_type": "stream",
          "text": [
            "                                                   "
          ]
        },
        {
          "name": "stdout",
          "output_type": "stream",
          "text": [
            "Moviepy - Done !\n",
            "Moviepy - video ready /content/videos/rl-video-episode-26.mp4\n"
          ]
        },
        {
          "name": "stderr",
          "output_type": "stream",
          "text": [
            "\r"
          ]
        },
        {
          "name": "stdout",
          "output_type": "stream",
          "text": [
            "Moviepy - Building video /content/videos/rl-video-episode-27.mp4.\n",
            "Moviepy - Writing video /content/videos/rl-video-episode-27.mp4\n",
            "\n"
          ]
        },
        {
          "name": "stderr",
          "output_type": "stream",
          "text": [
            "                                                                "
          ]
        },
        {
          "name": "stdout",
          "output_type": "stream",
          "text": [
            "Moviepy - Done !\n",
            "Moviepy - video ready /content/videos/rl-video-episode-27.mp4\n"
          ]
        },
        {
          "name": "stderr",
          "output_type": "stream",
          "text": [
            "\r"
          ]
        },
        {
          "name": "stdout",
          "output_type": "stream",
          "text": [
            "Moviepy - Building video /content/videos/rl-video-episode-28.mp4.\n",
            "Moviepy - Writing video /content/videos/rl-video-episode-28.mp4\n",
            "\n"
          ]
        },
        {
          "name": "stderr",
          "output_type": "stream",
          "text": [
            "                                                   "
          ]
        },
        {
          "name": "stdout",
          "output_type": "stream",
          "text": [
            "Moviepy - Done !\n",
            "Moviepy - video ready /content/videos/rl-video-episode-28.mp4\n"
          ]
        },
        {
          "name": "stderr",
          "output_type": "stream",
          "text": [
            "\r"
          ]
        },
        {
          "name": "stdout",
          "output_type": "stream",
          "text": [
            "Moviepy - Building video /content/videos/rl-video-episode-29.mp4.\n",
            "Moviepy - Writing video /content/videos/rl-video-episode-29.mp4\n",
            "\n"
          ]
        },
        {
          "name": "stderr",
          "output_type": "stream",
          "text": [
            "                                                                "
          ]
        },
        {
          "name": "stdout",
          "output_type": "stream",
          "text": [
            "Moviepy - Done !\n",
            "Moviepy - video ready /content/videos/rl-video-episode-29.mp4\n"
          ]
        },
        {
          "name": "stderr",
          "output_type": "stream",
          "text": [
            "\r"
          ]
        },
        {
          "name": "stdout",
          "output_type": "stream",
          "text": [
            "Moviepy - Building video /content/videos/rl-video-episode-30.mp4.\n",
            "Moviepy - Writing video /content/videos/rl-video-episode-30.mp4\n",
            "\n"
          ]
        },
        {
          "name": "stderr",
          "output_type": "stream",
          "text": []
        },
        {
          "name": "stdout",
          "output_type": "stream",
          "text": [
            "Moviepy - Done !\n",
            "Moviepy - video ready /content/videos/rl-video-episode-30.mp4\n",
            "Moviepy - Building video /content/videos/rl-video-episode-31.mp4.\n",
            "Moviepy - Writing video /content/videos/rl-video-episode-31.mp4\n",
            "\n"
          ]
        },
        {
          "name": "stderr",
          "output_type": "stream",
          "text": [
            "                                                   "
          ]
        },
        {
          "name": "stdout",
          "output_type": "stream",
          "text": [
            "Moviepy - Done !\n",
            "Moviepy - video ready /content/videos/rl-video-episode-31.mp4\n"
          ]
        },
        {
          "name": "stderr",
          "output_type": "stream",
          "text": [
            "\r"
          ]
        },
        {
          "name": "stdout",
          "output_type": "stream",
          "text": [
            "Moviepy - Building video /content/videos/rl-video-episode-32.mp4.\n",
            "Moviepy - Writing video /content/videos/rl-video-episode-32.mp4\n",
            "\n"
          ]
        },
        {
          "name": "stderr",
          "output_type": "stream",
          "text": [
            "                                                                "
          ]
        },
        {
          "name": "stdout",
          "output_type": "stream",
          "text": [
            "Moviepy - Done !\n",
            "Moviepy - video ready /content/videos/rl-video-episode-32.mp4\n"
          ]
        },
        {
          "name": "stderr",
          "output_type": "stream",
          "text": [
            "\r"
          ]
        },
        {
          "name": "stdout",
          "output_type": "stream",
          "text": [
            "Moviepy - Building video /content/videos/rl-video-episode-33.mp4.\n",
            "Moviepy - Writing video /content/videos/rl-video-episode-33.mp4\n",
            "\n"
          ]
        },
        {
          "name": "stderr",
          "output_type": "stream",
          "text": [
            "                                                   "
          ]
        },
        {
          "name": "stdout",
          "output_type": "stream",
          "text": [
            "Moviepy - Done !\n",
            "Moviepy - video ready /content/videos/rl-video-episode-33.mp4\n"
          ]
        },
        {
          "name": "stderr",
          "output_type": "stream",
          "text": [
            "\r"
          ]
        },
        {
          "name": "stdout",
          "output_type": "stream",
          "text": [
            "Moviepy - Building video /content/videos/rl-video-episode-34.mp4.\n",
            "Moviepy - Writing video /content/videos/rl-video-episode-34.mp4\n",
            "\n"
          ]
        },
        {
          "name": "stderr",
          "output_type": "stream",
          "text": [
            "                                                                "
          ]
        },
        {
          "name": "stdout",
          "output_type": "stream",
          "text": [
            "Moviepy - Done !\n",
            "Moviepy - video ready /content/videos/rl-video-episode-34.mp4\n"
          ]
        },
        {
          "name": "stderr",
          "output_type": "stream",
          "text": [
            "\r"
          ]
        },
        {
          "name": "stdout",
          "output_type": "stream",
          "text": [
            "Moviepy - Building video /content/videos/rl-video-episode-35.mp4.\n",
            "Moviepy - Writing video /content/videos/rl-video-episode-35.mp4\n",
            "\n"
          ]
        },
        {
          "name": "stderr",
          "output_type": "stream",
          "text": []
        },
        {
          "name": "stdout",
          "output_type": "stream",
          "text": [
            "Moviepy - Done !\n",
            "Moviepy - video ready /content/videos/rl-video-episode-35.mp4\n",
            "Moviepy - Building video /content/videos/rl-video-episode-36.mp4.\n",
            "Moviepy - Writing video /content/videos/rl-video-episode-36.mp4\n",
            "\n"
          ]
        },
        {
          "name": "stderr",
          "output_type": "stream",
          "text": [
            "                                                   "
          ]
        },
        {
          "name": "stdout",
          "output_type": "stream",
          "text": [
            "Moviepy - Done !\n",
            "Moviepy - video ready /content/videos/rl-video-episode-36.mp4\n"
          ]
        },
        {
          "name": "stderr",
          "output_type": "stream",
          "text": [
            "\r"
          ]
        },
        {
          "name": "stdout",
          "output_type": "stream",
          "text": [
            "Moviepy - Building video /content/videos/rl-video-episode-37.mp4.\n",
            "Moviepy - Writing video /content/videos/rl-video-episode-37.mp4\n",
            "\n"
          ]
        },
        {
          "name": "stderr",
          "output_type": "stream",
          "text": [
            "                                                                "
          ]
        },
        {
          "name": "stdout",
          "output_type": "stream",
          "text": [
            "Moviepy - Done !\n",
            "Moviepy - video ready /content/videos/rl-video-episode-37.mp4\n"
          ]
        },
        {
          "name": "stderr",
          "output_type": "stream",
          "text": [
            "\r"
          ]
        },
        {
          "name": "stdout",
          "output_type": "stream",
          "text": [
            "Moviepy - Building video /content/videos/rl-video-episode-38.mp4.\n",
            "Moviepy - Writing video /content/videos/rl-video-episode-38.mp4\n",
            "\n"
          ]
        },
        {
          "name": "stderr",
          "output_type": "stream",
          "text": [
            "                                                   "
          ]
        },
        {
          "name": "stdout",
          "output_type": "stream",
          "text": [
            "Moviepy - Done !\n",
            "Moviepy - video ready /content/videos/rl-video-episode-38.mp4\n"
          ]
        },
        {
          "name": "stderr",
          "output_type": "stream",
          "text": [
            "\r"
          ]
        },
        {
          "name": "stdout",
          "output_type": "stream",
          "text": [
            "Moviepy - Building video /content/videos/rl-video-episode-39.mp4.\n",
            "Moviepy - Writing video /content/videos/rl-video-episode-39.mp4\n",
            "\n"
          ]
        },
        {
          "name": "stderr",
          "output_type": "stream",
          "text": [
            "                                                                "
          ]
        },
        {
          "name": "stdout",
          "output_type": "stream",
          "text": [
            "Moviepy - Done !\n",
            "Moviepy - video ready /content/videos/rl-video-episode-39.mp4\n"
          ]
        },
        {
          "name": "stderr",
          "output_type": "stream",
          "text": [
            "\r"
          ]
        },
        {
          "name": "stdout",
          "output_type": "stream",
          "text": [
            "Moviepy - Building video /content/videos/rl-video-episode-40.mp4.\n",
            "Moviepy - Writing video /content/videos/rl-video-episode-40.mp4\n",
            "\n"
          ]
        },
        {
          "name": "stderr",
          "output_type": "stream",
          "text": []
        },
        {
          "name": "stdout",
          "output_type": "stream",
          "text": [
            "Moviepy - Done !\n",
            "Moviepy - video ready /content/videos/rl-video-episode-40.mp4\n",
            "Moviepy - Building video /content/videos/rl-video-episode-41.mp4.\n",
            "Moviepy - Writing video /content/videos/rl-video-episode-41.mp4\n",
            "\n"
          ]
        },
        {
          "name": "stderr",
          "output_type": "stream",
          "text": [
            "                                                   "
          ]
        },
        {
          "name": "stdout",
          "output_type": "stream",
          "text": [
            "Moviepy - Done !\n",
            "Moviepy - video ready /content/videos/rl-video-episode-41.mp4\n"
          ]
        },
        {
          "name": "stderr",
          "output_type": "stream",
          "text": [
            "\r"
          ]
        },
        {
          "name": "stdout",
          "output_type": "stream",
          "text": [
            "Moviepy - Building video /content/videos/rl-video-episode-42.mp4.\n",
            "Moviepy - Writing video /content/videos/rl-video-episode-42.mp4\n",
            "\n"
          ]
        },
        {
          "name": "stderr",
          "output_type": "stream",
          "text": [
            "                                                                "
          ]
        },
        {
          "name": "stdout",
          "output_type": "stream",
          "text": [
            "Moviepy - Done !\n",
            "Moviepy - video ready /content/videos/rl-video-episode-42.mp4\n"
          ]
        },
        {
          "name": "stderr",
          "output_type": "stream",
          "text": [
            "\r"
          ]
        },
        {
          "name": "stdout",
          "output_type": "stream",
          "text": [
            "Moviepy - Building video /content/videos/rl-video-episode-43.mp4.\n",
            "Moviepy - Writing video /content/videos/rl-video-episode-43.mp4\n",
            "\n"
          ]
        },
        {
          "name": "stderr",
          "output_type": "stream",
          "text": [
            "                                                   "
          ]
        },
        {
          "name": "stdout",
          "output_type": "stream",
          "text": [
            "Moviepy - Done !\n",
            "Moviepy - video ready /content/videos/rl-video-episode-43.mp4\n"
          ]
        },
        {
          "name": "stderr",
          "output_type": "stream",
          "text": [
            "\r"
          ]
        },
        {
          "name": "stdout",
          "output_type": "stream",
          "text": [
            "Moviepy - Building video /content/videos/rl-video-episode-44.mp4.\n",
            "Moviepy - Writing video /content/videos/rl-video-episode-44.mp4\n",
            "\n"
          ]
        },
        {
          "name": "stderr",
          "output_type": "stream",
          "text": [
            "                                                                "
          ]
        },
        {
          "name": "stdout",
          "output_type": "stream",
          "text": [
            "Moviepy - Done !\n",
            "Moviepy - video ready /content/videos/rl-video-episode-44.mp4\n"
          ]
        },
        {
          "name": "stderr",
          "output_type": "stream",
          "text": [
            "\r"
          ]
        },
        {
          "name": "stdout",
          "output_type": "stream",
          "text": [
            "Moviepy - Building video /content/videos/rl-video-episode-45.mp4.\n",
            "Moviepy - Writing video /content/videos/rl-video-episode-45.mp4\n",
            "\n"
          ]
        },
        {
          "name": "stderr",
          "output_type": "stream",
          "text": []
        },
        {
          "name": "stdout",
          "output_type": "stream",
          "text": [
            "Moviepy - Done !\n",
            "Moviepy - video ready /content/videos/rl-video-episode-45.mp4\n",
            "Moviepy - Building video /content/videos/rl-video-episode-46.mp4.\n",
            "Moviepy - Writing video /content/videos/rl-video-episode-46.mp4\n",
            "\n"
          ]
        },
        {
          "name": "stderr",
          "output_type": "stream",
          "text": [
            "                                                   "
          ]
        },
        {
          "name": "stdout",
          "output_type": "stream",
          "text": [
            "Moviepy - Done !\n",
            "Moviepy - video ready /content/videos/rl-video-episode-46.mp4\n"
          ]
        },
        {
          "name": "stderr",
          "output_type": "stream",
          "text": [
            "\r"
          ]
        },
        {
          "name": "stdout",
          "output_type": "stream",
          "text": [
            "Moviepy - Building video /content/videos/rl-video-episode-47.mp4.\n",
            "Moviepy - Writing video /content/videos/rl-video-episode-47.mp4\n",
            "\n"
          ]
        },
        {
          "name": "stderr",
          "output_type": "stream",
          "text": [
            "                                                                "
          ]
        },
        {
          "name": "stdout",
          "output_type": "stream",
          "text": [
            "Moviepy - Done !\n",
            "Moviepy - video ready /content/videos/rl-video-episode-47.mp4\n"
          ]
        },
        {
          "name": "stderr",
          "output_type": "stream",
          "text": [
            "\r"
          ]
        },
        {
          "name": "stdout",
          "output_type": "stream",
          "text": [
            "Moviepy - Building video /content/videos/rl-video-episode-48.mp4.\n",
            "Moviepy - Writing video /content/videos/rl-video-episode-48.mp4\n",
            "\n"
          ]
        },
        {
          "name": "stderr",
          "output_type": "stream",
          "text": [
            "                                                   "
          ]
        },
        {
          "name": "stdout",
          "output_type": "stream",
          "text": [
            "Moviepy - Done !\n",
            "Moviepy - video ready /content/videos/rl-video-episode-48.mp4\n"
          ]
        },
        {
          "name": "stderr",
          "output_type": "stream",
          "text": [
            "\r"
          ]
        },
        {
          "name": "stdout",
          "output_type": "stream",
          "text": [
            "Moviepy - Building video /content/videos/rl-video-episode-49.mp4.\n",
            "Moviepy - Writing video /content/videos/rl-video-episode-49.mp4\n",
            "\n"
          ]
        },
        {
          "name": "stderr",
          "output_type": "stream",
          "text": [
            "                                                              "
          ]
        },
        {
          "name": "stdout",
          "output_type": "stream",
          "text": [
            "Moviepy - Done !\n",
            "Moviepy - video ready /content/videos/rl-video-episode-49.mp4\n"
          ]
        },
        {
          "name": "stderr",
          "output_type": "stream",
          "text": [
            "\r"
          ]
        }
      ],
      "source": [
        "# record sessions\n",
        "from gymnasium.wrappers import RecordVideo\n",
        "\n",
        "with RecordVideo(env=make_env(), video_folder='./videos',\n",
        "                 episode_trigger = lambda episode_number: True) as env_monitor:\n",
        "    sessions = [evaluate(env_monitor, agent, n_games=n_lives,\n",
        "                         greedy=True) for _ in range(10)]\n",
        "env.close()"
      ]
    },
    {
      "cell_type": "code",
      "execution_count": null,
      "metadata": {
        "colab": {
          "base_uri": "https://localhost:8080/",
          "height": 557
        },
        "id": "mQNclC_7Y0vK",
        "outputId": "d9c967aa-ce49-4b2b-a432-9d6d3f59645d"
      },
      "outputs": [
        {
          "name": "stderr",
          "output_type": "stream",
          "text": [
            "/usr/local/lib/python3.10/dist-packages/ipykernel/ipkernel.py:283: DeprecationWarning: `should_run_async` will not call `transform_cell` automatically in the future. Please pass the result to `transformed_cell` argument and any exception that happen during thetransform in `preprocessing_exc_tuple` in IPython 7.17 and above.\n",
            "  and should_run_async(code)\n"
          ]
        },
        {
          "data": {
            "text/html": [
              "\n",
              "<video width=\"640\" height=\"480\" controls>\n",
              "  <source src=\"data:video/mp4;base64,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\" type=\"video/mp4\">\n",
              "</video>\n"
            ],
            "text/plain": [
              "<IPython.core.display.HTML object>"
            ]
          },
          "execution_count": 68,
          "metadata": {},
          "output_type": "execute_result"
        }
      ],
      "source": [
        "# Show video. This may not work in some setups. If it doesn't\n",
        "# work for you, you can download the videos and view them locally.\n",
        "\n",
        "from pathlib import Path\n",
        "from base64 import b64encode\n",
        "from IPython.display import HTML\n",
        "\n",
        "video_paths = sorted([s for s in Path('videos').iterdir() if s.suffix == '.mp4'])\n",
        "video_path = video_paths[0]  # You can also try other indices\n",
        "\n",
        "if 'google.colab' in sys.modules:\n",
        "    # https://stackoverflow.com/a/57378660/1214547\n",
        "    with video_path.open('rb') as fp:\n",
        "        mp4 = fp.read()\n",
        "    data_url = 'data:video/mp4;base64,' + b64encode(mp4).decode()\n",
        "else:\n",
        "    data_url = str(video_path)\n",
        "\n",
        "HTML(\"\"\"\n",
        "<video width=\"640\" height=\"480\" controls>\n",
        "  <source src=\"{}\" type=\"video/mp4\">\n",
        "</video>\n",
        "\"\"\".format(data_url))"
      ]
    }
  ],
  "metadata": {
    "colab": {
      "collapsed_sections": [
        "iTU1LFS3lzKE"
      ],
      "provenance": []
    },
    "kernelspec": {
      "display_name": "Python 3",
      "name": "python3"
    },
    "language_info": {
      "codemirror_mode": {
        "name": "ipython",
        "version": 3
      },
      "file_extension": ".py",
      "mimetype": "text/x-python",
      "name": "python",
      "nbconvert_exporter": "python",
      "pygments_lexer": "ipython3",
      "version": "3.9.7"
    },
    "vscode": {
      "interpreter": {
        "hash": "5f147a1ade19547acdcd4157463f5accc5434956bc0f195200d2f3449f8502a4"
      }
    }
  },
  "nbformat": 4,
  "nbformat_minor": 0
}
